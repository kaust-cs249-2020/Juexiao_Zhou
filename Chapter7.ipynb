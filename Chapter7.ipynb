{
 "cells": [
  {
   "cell_type": "markdown",
   "metadata": {},
   "source": [
    "# code for ch7"
   ]
  },
  {
   "cell_type": "markdown",
   "metadata": {},
   "source": [
    "## 7.3 Sorting by Reversals"
   ]
  },
  {
   "cell_type": "markdown",
   "metadata": {},
   "source": [
    "### step.4 How many permutations of length 7 are there?"
   ]
  },
  {
   "cell_type": "code",
   "execution_count": 1,
   "metadata": {},
   "outputs": [
    {
     "data": {
      "text/plain": [
       "645120.0"
      ]
     },
     "execution_count": 1,
     "metadata": {},
     "output_type": "execute_result"
    }
   ],
   "source": [
    "# 7 numbers\n",
    "\n",
    "import math\n",
    "\n",
    "#math.pow(2,7)*A(7,7)\n",
    "\n",
    "math.pow(2,7)*5040"
   ]
  },
  {
   "cell_type": "markdown",
   "metadata": {},
   "source": [
    "### step.6 How many different reversals can be applied to a permutation of length 100?"
   ]
  },
  {
   "cell_type": "code",
   "execution_count": null,
   "metadata": {},
   "outputs": [],
   "source": [
    "100+99+98...+1"
   ]
  },
  {
   "cell_type": "code",
   "execution_count": 4,
   "metadata": {},
   "outputs": [
    {
     "data": {
      "text/plain": [
       "5050.0"
      ]
     },
     "execution_count": 4,
     "metadata": {},
     "output_type": "execute_result"
    }
   ],
   "source": [
    "100*(100+1)/2"
   ]
  },
  {
   "cell_type": "markdown",
   "metadata": {},
   "source": [
    "## 7.4 A Greedy Algorithm for Sorting by Reversals"
   ]
  },
  {
   "cell_type": "markdown",
   "metadata": {},
   "source": [
    "### step.4 GreedySorting"
   ]
  },
  {
   "cell_type": "code",
   "execution_count": 29,
   "metadata": {},
   "outputs": [
    {
     "name": "stdout",
     "output_type": "stream",
     "text": [
      "-1 -4 +3 +5 -2\n",
      "+1 -4 +3 +5 -2\n",
      "+1 +2 -5 -3 +4\n",
      "+1 +2 +3 +5 +4\n",
      "+1 +2 +3 -4 -5\n",
      "+1 +2 +3 +4 -5\n",
      "+1 +2 +3 +4 +5\n"
     ]
    },
    {
     "data": {
      "text/plain": [
       "7"
      ]
     },
     "execution_count": 29,
     "metadata": {},
     "output_type": "execute_result"
    }
   ],
   "source": [
    "def k_sorting_reversal(P,k):\n",
    "    #print(P,k)\n",
    "    for i in range(len(P)):\n",
    "        if (P[i]==k)|(P[i]==-k):\n",
    "            loc_k=i\n",
    "            #print(loc_k)\n",
    "    #print(P[k-1:loc_k+1])\n",
    "    P[k-1:loc_k+1]=[-1*x for x in P[k-1:loc_k+1][::-1]]\n",
    "    return P\n",
    "\n",
    "def GreedySorting(P):\n",
    "    approxReversalDistance=0\n",
    "    for k in range(1,len(P)+1):\n",
    "        if P[k-1]!=k: # if element k is not sorted\n",
    "            P=k_sorting_reversal(P,k)\n",
    "            approxReversalDistance+=1\n",
    "            #print(P)\n",
    "            tmp=[]\n",
    "            for x in P:\n",
    "                if x<0:\n",
    "                    tmp.append(str(x))\n",
    "                else:\n",
    "                    tmp.append('+'+str(x))\n",
    "            print(' '.join(tmp))\n",
    "        if P[k-1]==-k:\n",
    "            P[k-1]=k\n",
    "            approxReversalDistance+=1\n",
    "            #print(P)\n",
    "            tmp=[]\n",
    "            for x in P:\n",
    "                if x<0:\n",
    "                    tmp.append(str(x))\n",
    "                else:\n",
    "                    tmp.append('+'+str(x))\n",
    "            print(' '.join(tmp))\n",
    "    return approxReversalDistance\n",
    "            \n",
    "P=[-3,+4,+1,+5,-2]\n",
    "GreedySorting(P)"
   ]
  },
  {
   "cell_type": "code",
   "execution_count": 31,
   "metadata": {
    "scrolled": true
   },
   "outputs": [],
   "source": [
    "with open('ch7_data/dataset_369332_4.txt','r') as f:\n",
    "    for line in f:\n",
    "        line=line.rstrip('\\n').split(' ')\n",
    "        data=[]\n",
    "        for x in line:\n",
    "            data.append(int(x))\n",
    "#GreedySorting(data)"
   ]
  },
  {
   "cell_type": "markdown",
   "metadata": {},
   "source": [
    "## 7.5 Breakpoints"
   ]
  },
  {
   "cell_type": "markdown",
   "metadata": {},
   "source": [
    "### step.5 How many permutations of length 200 have exactly 199 adjacencies?"
   ]
  },
  {
   "cell_type": "code",
   "execution_count": null,
   "metadata": {},
   "outputs": [],
   "source": [
    "C(2,201)"
   ]
  },
  {
   "cell_type": "code",
   "execution_count": 32,
   "metadata": {},
   "outputs": [
    {
     "data": {
      "text/plain": [
       "20100.0"
      ]
     },
     "execution_count": 32,
     "metadata": {},
     "output_type": "execute_result"
    }
   ],
   "source": [
    "201*200/2"
   ]
  },
  {
   "cell_type": "markdown",
   "metadata": {},
   "source": [
    "### step.6 Number of Breakpoints Problem"
   ]
  },
  {
   "cell_type": "code",
   "execution_count": 43,
   "metadata": {},
   "outputs": [
    {
     "data": {
      "text/plain": [
       "8"
      ]
     },
     "execution_count": 43,
     "metadata": {},
     "output_type": "execute_result"
    }
   ],
   "source": [
    "import numpy as np\n",
    "\n",
    "def Number_Breakpoints(P):\n",
    "    count=0\n",
    "    P.insert(0,0)\n",
    "    P.append(np.abs(P[-1])+1)\n",
    "    #print(P)\n",
    "    for i in range(1,len(P)):\n",
    "        if P[i]-P[i-1]!=1:\n",
    "            count+=1\n",
    "            #print(P[i-1],P[i])\n",
    "    return count\n",
    "\n",
    "P=[int(x) for x in '+3 +4 +5 -12 -8 -7 -6 +1 +2 +10 +9 -11 +13 +14'.split(' ')]\n",
    "Number_Breakpoints(P)"
   ]
  },
  {
   "cell_type": "code",
   "execution_count": 44,
   "metadata": {},
   "outputs": [
    {
     "data": {
      "text/plain": [
       "170"
      ]
     },
     "execution_count": 44,
     "metadata": {},
     "output_type": "execute_result"
    }
   ],
   "source": [
    "with open('ch7_data/dataset_369333_6.txt','r') as f:\n",
    "    P=f.readline().rstrip('\\n').split(' ')\n",
    "    P=[int(x) for x in P]\n",
    "Number_Breakpoints(P)\n",
    "    "
   ]
  },
  {
   "cell_type": "markdown",
   "metadata": {},
   "source": [
    "### step.10 How many permutations of length 10 have the property that no reversal applied to P decreases Breakpoints(P)?"
   ]
  },
  {
   "cell_type": "code",
   "execution_count": 24,
   "metadata": {},
   "outputs": [
    {
     "data": {
      "text/plain": [
       "3628800"
      ]
     },
     "execution_count": 24,
     "metadata": {},
     "output_type": "execute_result"
    }
   ],
   "source": [
    "import numpy as np\n",
    "np.math.factorial(10)"
   ]
  },
  {
   "cell_type": "markdown",
   "metadata": {},
   "source": [
    "## 7.9 Computing the 2-Break Distance"
   ]
  },
  {
   "cell_type": "markdown",
   "metadata": {},
   "source": [
    "### step.4  Solve the 2-Break Distance Problem."
   ]
  },
  {
   "cell_type": "code",
   "execution_count": 3,
   "metadata": {},
   "outputs": [
    {
     "name": "stdout",
     "output_type": "stream",
     "text": [
      "[(10, 11), (6, 7), (12, 1), (4, 5), (8, 9), (2, 3)] [(7, 3), (11, 10), (2, 6), (9, 1), (4, 8), (5, 12)]\n"
     ]
    }
   ],
   "source": [
    "def ChromosomeToCycle(Chromosome):\n",
    "    Nodes=[]\n",
    "    for j in range(len(Chromosome)):\n",
    "        i=Chromosome[j]\n",
    "        if i>0:\n",
    "            Nodes.append(2*i-1)\n",
    "            Nodes.append(2*i)\n",
    "        else:\n",
    "            Nodes.append(-2*i)\n",
    "            Nodes.append(-2*i-1)\n",
    "    return Nodes\n",
    "\n",
    "def ColoredEdges(P):\n",
    "    P=[[int(y) for y in x.split(' ')] for x in P[1:-1].split(')(')]\n",
    "    Edges=[]\n",
    "    for Chromosome in P:\n",
    "        Nodes=ChromosomeToCycle(Chromosome)\n",
    "        Nodes=Nodes+Nodes # to keep the head and tail\n",
    "        #print(Nodes)\n",
    "        for j in range(1,len(Chromosome)+1):\n",
    "            Edges.append((Nodes[2*j-1],Nodes[2*j]))\n",
    "    return list(set(Edges))\n",
    "\n",
    "# find all colored edges in P and Q \n",
    "\n",
    "P='(+1 +2 +3 +4 +5 +6)'\n",
    "Q='(+1 -3 -6 -5)(+2 -4)'\n",
    "Edges_P=ColoredEdges(P)\n",
    "Edges_Q=ColoredEdges(Q)\n",
    "print(Edges_P,Edges_Q)"
   ]
  },
  {
   "cell_type": "code",
   "execution_count": 9,
   "metadata": {},
   "outputs": [
    {
     "name": "stdout",
     "output_type": "stream",
     "text": [
      "{10: [11, 11], 11: [10, 10], 6: [7, 2], 7: [6, 3], 12: [1, 5], 1: [12, 9], 4: [5, 8], 5: [4, 12], 8: [9, 4], 9: [8, 1], 2: [3, 6], 3: [2, 7]} {1, 2, 3, 4, 5, 6, 7, 8, 9, 10, 11, 12}\n"
     ]
    }
   ],
   "source": [
    "def BreakpointGraph(Edges):\n",
    "    # Edges2AdjacentList\n",
    "    List={}\n",
    "    for edge in Edges:\n",
    "        try:\n",
    "            List[edge[0]].append(edge[1])\n",
    "        except:\n",
    "            List[edge[0]]=[edge[1]]\n",
    "        try:\n",
    "            List[edge[1]].append(edge[0])\n",
    "        except:\n",
    "            List[edge[1]]=[edge[0]]\n",
    "    return List\n",
    "\n",
    "def Nodes(Graph):\n",
    "    nodes=[]\n",
    "    for key in Graph.keys():\n",
    "        nodes.append(key)\n",
    "        nodes+=Graph[key]\n",
    "    return set(nodes)\n",
    "\n",
    "# build the breakpoint graph with colored edges from P and Q\n",
    "\n",
    "Graph=BreakpointGraph(Edges_P+Edges_Q)\n",
    "AllNodes=Nodes(Graph)\n",
    "\n",
    "print(Graph,AllNodes)"
   ]
  },
  {
   "cell_type": "code",
   "execution_count": 21,
   "metadata": {},
   "outputs": [
    {
     "data": {
      "text/plain": [
       "3"
      ]
     },
     "execution_count": 21,
     "metadata": {},
     "output_type": "execute_result"
    }
   ],
   "source": [
    "def Cycle(P,Q):\n",
    "    global out\n",
    "    Edges_P=ColoredEdges(P)\n",
    "    Edges_Q=ColoredEdges(Q)\n",
    "    Graph=BreakpointGraph(Edges_P+Edges_Q)\n",
    "    AllNodes=Nodes(Graph)\n",
    "    from tarjan.tc import tc\n",
    "    return len(set(list(tc(Graph).values())))\n",
    "\n",
    "P='(+1 +2 +3 +4 +5 +6)'\n",
    "Q='(+1 -3 -6 -5)(+2 -4)'\n",
    "Cycle(P,Q)"
   ]
  },
  {
   "cell_type": "code",
   "execution_count": 22,
   "metadata": {},
   "outputs": [
    {
     "data": {
      "text/plain": [
       "{11: (10, 11),\n",
       " 10: (10, 11),\n",
       " 2: (2, 3, 6, 7),\n",
       " 3: (2, 3, 6, 7),\n",
       " 7: (2, 3, 6, 7),\n",
       " 6: (2, 3, 6, 7),\n",
       " 5: (1, 4, 5, 8, 9, 12),\n",
       " 4: (1, 4, 5, 8, 9, 12),\n",
       " 8: (1, 4, 5, 8, 9, 12),\n",
       " 9: (1, 4, 5, 8, 9, 12),\n",
       " 1: (1, 4, 5, 8, 9, 12),\n",
       " 12: (1, 4, 5, 8, 9, 12)}"
      ]
     },
     "execution_count": 22,
     "metadata": {},
     "output_type": "execute_result"
    }
   ],
   "source": [
    "out"
   ]
  },
  {
   "cell_type": "code",
   "execution_count": 27,
   "metadata": {},
   "outputs": [
    {
     "data": {
      "text/plain": [
       "6"
      ]
     },
     "execution_count": 27,
     "metadata": {},
     "output_type": "execute_result"
    }
   ],
   "source": [
    "def Blocks(P,Q):\n",
    "    import numpy as np\n",
    "    P=[[int(y) for y in x.split(' ')] for x in P[1:-1].split(')(')]\n",
    "    Q=[[int(y) for y in x.split(' ')] for x in Q[1:-1].split(')(')]\n",
    "    synteny=[]\n",
    "    for y in P:\n",
    "        for x in y:\n",
    "            synteny.append(np.absolute(x))\n",
    "    for y in Q:\n",
    "        for x in y:\n",
    "            synteny.append(np.absolute(x))\n",
    "    return len(set(synteny))\n",
    "            \n",
    "\n",
    "P='(+1 +2 +3 +4 +5 +6)'\n",
    "Q='(+1 -3 -6 -5)(+2 -4)'\n",
    "Blocks(P,Q)"
   ]
  },
  {
   "cell_type": "code",
   "execution_count": 1,
   "metadata": {},
   "outputs": [
    {
     "data": {
      "text/plain": [
       "3"
      ]
     },
     "execution_count": 1,
     "metadata": {},
     "output_type": "execute_result"
    }
   ],
   "source": [
    "def ChromosomeToCycle(Chromosome):\n",
    "    Nodes=[]\n",
    "    for j in range(len(Chromosome)):\n",
    "        i=Chromosome[j]\n",
    "        if i>0:\n",
    "            Nodes.append(2*i-1)\n",
    "            Nodes.append(2*i)\n",
    "        else:\n",
    "            Nodes.append(-2*i)\n",
    "            Nodes.append(-2*i-1)\n",
    "    return Nodes\n",
    "\n",
    "def ColoredEdges(P):\n",
    "    P=[[int(y) for y in x.split(' ')] for x in P[1:-1].split(')(')]\n",
    "    Edges=[]\n",
    "    for Chromosome in P:\n",
    "        Nodes=ChromosomeToCycle(Chromosome)\n",
    "        Nodes=Nodes+Nodes # to keep the head and tail\n",
    "        #print(Nodes)\n",
    "        for j in range(1,len(Chromosome)+1):\n",
    "            Edges.append((Nodes[2*j-1],Nodes[2*j]))\n",
    "    return list(set(Edges))\n",
    "\n",
    "def BreakpointGraph(Edges):\n",
    "    # Edges2AdjacentList\n",
    "    List={}\n",
    "    for edge in Edges:\n",
    "        try:\n",
    "            List[edge[0]].append(edge[1])\n",
    "        except:\n",
    "            List[edge[0]]=[edge[1]]\n",
    "        try:\n",
    "            List[edge[1]].append(edge[0])\n",
    "        except:\n",
    "            List[edge[1]]=[edge[0]]\n",
    "    return List\n",
    "\n",
    "def Nodes(Graph):\n",
    "    nodes=[]\n",
    "    for key in Graph.keys():\n",
    "        nodes.append(key)\n",
    "        nodes+=Graph[key]\n",
    "    return set(nodes)\n",
    "\n",
    "def Cycle(P,Q):\n",
    "    global out\n",
    "    Edges_P=ColoredEdges(P)\n",
    "    Edges_Q=ColoredEdges(Q)\n",
    "    Graph=BreakpointGraph(Edges_P+Edges_Q)\n",
    "    AllNodes=Nodes(Graph)\n",
    "    from tarjan.tc import tc\n",
    "    return len(set(list(tc(Graph).values())))\n",
    "\n",
    "def Blocks(P,Q):\n",
    "    import numpy as np\n",
    "    P=[[int(y) for y in x.split(' ')] for x in P[1:-1].split(')(')]\n",
    "    Q=[[int(y) for y in x.split(' ')] for x in Q[1:-1].split(')(')]\n",
    "    synteny=[]\n",
    "    for y in P:\n",
    "        for x in y:\n",
    "            synteny.append(np.absolute(x))\n",
    "    for y in Q:\n",
    "        for x in y:\n",
    "            synteny.append(np.absolute(x))\n",
    "    return len(set(synteny))    \n",
    "\n",
    "def Dis2Break(P,Q):\n",
    "    cycle=Cycle(P,Q)\n",
    "    block=Blocks(P,Q)\n",
    "    dis=block-cycle\n",
    "    return dis\n",
    "\n",
    "P='(+1 +2 +3 +4 +5 +6)'\n",
    "Q='(+1 -3 -6 -5)(+2 -4)'\n",
    "Dis2Break(P,Q)"
   ]
  },
  {
   "cell_type": "code",
   "execution_count": 3,
   "metadata": {},
   "outputs": [
    {
     "name": "stdout",
     "output_type": "stream",
     "text": [
      "8528\n"
     ]
    }
   ],
   "source": [
    "with open('ch7_data/dataset_369337_4.txt','r') as f:\n",
    "    P=f.readline().rstrip('\\n')\n",
    "    Q=f.readline().rstrip('\\n')\n",
    "    print(Dis2Break(P,Q))\n",
    "    "
   ]
  },
  {
   "cell_type": "markdown",
   "metadata": {},
   "source": [
    "### step.5 2-Break Sorting Problem"
   ]
  },
  {
   "cell_type": "code",
   "execution_count": 17,
   "metadata": {},
   "outputs": [
    {
     "name": "stdout",
     "output_type": "stream",
     "text": [
      "(+1 -2 -3 +4)\n",
      "(-2 -3 +4)(-1)\n",
      "(-3 +4 -2 -1)\n",
      "(+4 -2 -1 +3)\n"
     ]
    }
   ],
   "source": [
    "import numpy as np\n",
    "\n",
    "def GenomeToCycle(genome):\n",
    "    \n",
    "    cycGenome=[]\n",
    "    for chromo in genome:\n",
    "        tmp=[]\n",
    "        for i in range(len(chromo)):\n",
    "            if chromo[i]>0:\n",
    "                tmp.append([chromo[i]*2-1,chromo[i]*2])\n",
    "            else:\n",
    "                tmp.append([chromo[i]*(-2),chromo[i]*(-2)-1])\n",
    "        cycGenome.append(tmp)\n",
    "    return cycGenome\n",
    "\n",
    "def ColoredEdges(genome):\n",
    "    edges=[]\n",
    "    cycGenome=GenomeToCycle(genome)\n",
    "    for chromo in cycGenome:\n",
    "        if len(chromo)==1:\n",
    "            edges.append(chromo[0][::-1])\n",
    "            continue\n",
    "        for i in range(len(chromo)-1):\n",
    "            edges.append([ chromo[i][1],chromo[i+1][0] ])\n",
    "        edges.append([chromo[i+1][1],chromo[0][0]])\n",
    "    return edges\n",
    "\n",
    "def ColoredEdgesCycles(Edges_P, Edges_Q):\n",
    "    size=len(Edges_P)+len(Edges_Q)+1\n",
    "    AdjMatrix=np.zeros(shape=(size,2),dtype=int)\n",
    "    visited=[0]*(size)\n",
    "    for edges in Edges_P:\n",
    "        AdjMatrix[edges[0],0]=edges[1]\n",
    "        AdjMatrix[edges[1],0]=edges[0]\n",
    "    for edges in Edges_Q:\n",
    "        AdjMatrix[edges[0],1]=edges[1]\n",
    "        AdjMatrix[edges[1],1]=edges[0]\n",
    "    cycles=[]\n",
    "    for v in range(1,size):\n",
    "        if visited[v]==1:\n",
    "            continue\n",
    "        visited[v]==1\n",
    "        head=v\n",
    "        c=[head]\n",
    "        color=0\n",
    "        while(True):\n",
    "            v=AdjMatrix[v,color]\n",
    "            if v == head:\n",
    "                cycles.append(c)\n",
    "                break\n",
    "            visited[v]=1\n",
    "            c.append(v)\n",
    "            color=(color+1)%2\n",
    "    return cycles\n",
    "\n",
    "def Block(P,Q):\n",
    "    s=set()\n",
    "    for i in P[0]:\n",
    "        s.add(abs(i))\n",
    "    for i in Q[0]:\n",
    "        s.add(abs(i))\n",
    "    return len(s)\n",
    "    \n",
    "def _2BreakDistance(P,Q):\n",
    "    cycles=ColoredEdgesCycles(ColoredEdges(P),ColoredEdges(Q))\n",
    "    n_cycles=len(cycles)\n",
    "    n_blocks=Block(P,Q)\n",
    "    return n_blocks-n_cycles\n",
    "\n",
    "def GraphToGenome(Graph):\n",
    "    Genome=[]\n",
    "    Visited=[]\n",
    "    AdjMatrix=np.zeros(len(Graph)*2, dtype=np.int)\n",
    "    for edge in Graph:\n",
    "        AdjMatrix[edge[0]-1]=edge[1]-1\n",
    "        AdjMatrix[edge[1]-1]=edge[0]-1\n",
    "    for edge in Graph:\n",
    "        head=edge[0]\n",
    "        if head in Visited:\n",
    "            continue\n",
    "        Visited.append(head)\n",
    "        if head%2==0:\n",
    "            tail=head-1\n",
    "        else:\n",
    "            tail=head+1\n",
    "        p=[]\n",
    "        i=0\n",
    "        while(True):\n",
    "            if head%2==0:\n",
    "                p.append(int(head/2))\n",
    "            else:\n",
    "                p.append(int(-(head+1)/2))\n",
    "            dest=AdjMatrix[head-1]+1\n",
    "            i=i+1\n",
    "            Visited.append(dest)\n",
    "            if (dest==tail):\n",
    "                Genome.append(p)\n",
    "                break\n",
    "            if (dest%2==0):\n",
    "                head=dest-1\n",
    "            else:\n",
    "                head=dest+1\n",
    "            assert head>0\n",
    "            Visited.append(head)\n",
    "    return Genome\n",
    "\n",
    "def _2BreakOnGenome(P,i1,i2,j1,j2):\n",
    "    g=ColoredEdges(P)\n",
    "    g=twoBreakOnGraph(g,i1,i2,j1,j2)\n",
    "    return GraphToGenome(g)\n",
    "\n",
    "def _2BreakOnGraph(Graph,i1,i2,j1,j2):\n",
    "    rem=[[i1,i2],[i2,i1],[j1,j2],[j2,j1]]\n",
    "    bg=[]\n",
    "    for e in Graph:\n",
    "        if e not in rem:\n",
    "            bg.append(e)\n",
    "    bg.append([i1,j1])\n",
    "    bg.append([i2,j2])\n",
    "    return bg\n",
    "\n",
    "def _2BreakSorting(P,Q):\n",
    "    Edges_Q=ColoredEdges(Q)\n",
    "    Steps=[P]\n",
    "    while(twoBreakDistance(P,Q)>0):\n",
    "        Edges_P=ColoredEdges(P)\n",
    "        cycles=ColoredEdgesCycles(Edges_P,Edges_Q)\n",
    "        for cycle in cycles:\n",
    "            if len(cycle)>=4:\n",
    "                P=_2BreakOnGenome(P,cycle[0],cycle[1],cycle[3],cycle[2])\n",
    "                Steps.append(P)\n",
    "                break\n",
    "    return Steps\n",
    "\n",
    "P='(+1 -2 -3 +4)'\n",
    "Q='(+1 +2 -4 -3)'\n",
    "P=[[int(y) for y in x.split(' ')] for x in P[1:-1].split(')(')]\n",
    "Q=[[int(y) for y in x.split(' ')] for x in Q[1:-1].split(')(')]\n",
    "paths=_2BreakSorting(P,Q)\n",
    "for path in paths:\n",
    "    Format_Output=''\n",
    "    for p in path:\n",
    "        Format_Output+='(%s)'%(' '.join([[str(x),'+'+str(x)][x>0] for x in p]))\n",
    "    print(Format_Output)"
   ]
  },
  {
   "cell_type": "code",
   "execution_count": 18,
   "metadata": {},
   "outputs": [
    {
     "name": "stdout",
     "output_type": "stream",
     "text": [
      "(-8 -7 +1 -6 -2 +4 -12 +3 +10 -9 +5 -11)\n",
      "(-8 -7 +4 -12 +3 +10 -9 +5 -11)(+1 -6 -2)\n",
      "(-8 -7 +4 -12 +3 +10 -9 +5 -11 +1 -6 -2)\n",
      "(-8 -7 +4 -12 +3 +10 -9 +5 +11 +1 -6 -2)\n",
      "(-8 -7 +4 -12 -11 -5 +9 -10 -3 +1 -6 -2)\n",
      "(-8 -7 +4 +1 -6 -2)(-12 -11 -5 +9 -10 -3)\n",
      "(-8 -7 +4 -6 -2)(-12 -11 -5 +9 -10 -3)(-1)\n",
      "(-8 -7 +4 -6 -2)(-12 -11 -5 +9 -1 -10 -3)\n",
      "(-8 -7 +4 -6 -2)(-12 -11 -5 +9 -1 +10 -3)\n",
      "(-8 -7 +4 -6 -2)(-12 -11 -5 +1 -9 +10 -3)\n",
      "(-8 -7 +4 -6 +1 -9 +10 -3 -12 -11 -5 -2)\n"
     ]
    }
   ],
   "source": [
    "P='(-8 -7 +1 -6 -2 +4 -12 +3 +10 -9 +5 -11)'\n",
    "Q='(-12 -11 -5 -2 -8 -7 +4 -6 +1 -9 +10 -3)'\n",
    "P=[[int(y) for y in x.split(' ')] for x in P[1:-1].split(')(')]\n",
    "Q=[[int(y) for y in x.split(' ')] for x in Q[1:-1].split(')(')]\n",
    "paths=twoBreakSorting(P,Q)\n",
    "for path in paths:\n",
    "    Format_Output=''\n",
    "    for p in path:\n",
    "        Format_Output+='(%s)'%(' '.join([[str(x),'+'+str(x)][x>0] for x in p]))\n",
    "    print(Format_Output)"
   ]
  },
  {
   "cell_type": "markdown",
   "metadata": {},
   "source": [
    "## 7.11 Epilogue: Synteny Block Construction"
   ]
  },
  {
   "cell_type": "markdown",
   "metadata": {},
   "source": [
    "### step.5 Shared k-mers Problem"
   ]
  },
  {
   "cell_type": "code",
   "execution_count": 22,
   "metadata": {},
   "outputs": [
    {
     "name": "stdout",
     "output_type": "stream",
     "text": [
      "(0, 0)\n",
      "(0, 4)\n",
      "(4, 2)\n",
      "(6, 6)\n"
     ]
    }
   ],
   "source": [
    "def ReverseComplement(seq):\n",
    "    out=[]\n",
    "    encode={'A':'T',\n",
    "           'T':'A',\n",
    "           'C':'G',\n",
    "           'G':'C'}\n",
    "    for x in seq:\n",
    "        out.append(encode[x])\n",
    "    return ''.join(out[::-1])\n",
    "\n",
    "def Shared_kmers(seq1,seq2,k):\n",
    "    for i in range(len(seq1)-k+1):\n",
    "        for j in range(len(seq2)-k+1):\n",
    "            if seq1[i:i+k]==seq2[j:j+k] or ReverseComplement(seq1[i:i+k])==seq2[j:j+k]:\n",
    "                print((i,j))\n",
    "    \n",
    "seq1='AAACTCATC'\n",
    "seq2='TTTCAAATC'\n",
    "k=3\n",
    "Shared_kmers(seq1,seq2,k)"
   ]
  },
  {
   "cell_type": "code",
   "execution_count": 23,
   "metadata": {
    "scrolled": true
   },
   "outputs": [
    {
     "name": "stdout",
     "output_type": "stream",
     "text": [
      "(6, 515)\n",
      "(6, 1496)\n",
      "(7, 514)\n",
      "(7, 1497)\n",
      "(8, 1498)\n",
      "(9, 1499)\n",
      "(96, 297)\n",
      "(96, 2263)\n",
      "(96, 2346)\n",
      "(97, 2347)\n",
      "(279, 823)\n",
      "(279, 1954)\n",
      "(644, 299)\n",
      "(645, 298)\n",
      "(645, 2264)\n",
      "(646, 297)\n",
      "(646, 2263)\n",
      "(646, 2346)\n",
      "(1023, 382)\n",
      "(1023, 2644)\n",
      "(1024, 383)\n",
      "(1024, 2643)\n",
      "(1232, 164)\n",
      "(1232, 1269)\n",
      "(1233, 165)\n",
      "(1233, 1270)\n",
      "(1233, 1884)\n",
      "(1234, 166)\n",
      "(1269, 267)\n",
      "(1269, 702)\n",
      "(1269, 1226)\n",
      "(1270, 703)\n",
      "(1270, 1225)\n",
      "(1271, 1224)\n",
      "(1272, 1223)\n",
      "(1631, 3285)\n",
      "(1944, 1795)\n",
      "(1945, 46)\n",
      "(1945, 1794)\n",
      "(2055, 1743)\n",
      "(2055, 2741)\n",
      "(2690, 3090)\n",
      "(2691, 220)\n",
      "(2691, 3091)\n",
      "(3727, 1189)\n",
      "(3958, 161)\n",
      "(3959, 162)\n",
      "(3960, 163)\n",
      "(3960, 1268)\n",
      "(3961, 164)\n",
      "(3961, 1269)\n",
      "(3962, 165)\n",
      "(3962, 1270)\n",
      "(3962, 1884)\n",
      "(4499, 382)\n",
      "(4499, 2644)\n",
      "(4738, 2620)\n",
      "(4738, 3404)\n",
      "(4739, 2619)\n",
      "(4739, 3405)\n",
      "(4740, 2618)\n",
      "(4740, 3406)\n",
      "(4788, 2070)\n",
      "(5054, 1982)\n",
      "(5575, 382)\n",
      "(5575, 2644)\n",
      "(5576, 383)\n",
      "(5576, 2643)\n",
      "(5577, 2642)\n",
      "(5642, 2161)\n",
      "(5982, 1345)\n",
      "(5983, 1346)\n",
      "(5983, 2373)\n",
      "(6173, 2562)\n",
      "(6174, 1111)\n",
      "(6174, 2561)\n",
      "(6175, 1112)\n",
      "(6345, 1378)\n",
      "(6346, 134)\n",
      "(6346, 921)\n",
      "(6346, 1377)\n",
      "(6421, 699)\n",
      "(6422, 700)\n",
      "(6423, 701)\n",
      "(6424, 267)\n",
      "(6424, 702)\n",
      "(6424, 1226)\n",
      "(6425, 703)\n",
      "(6425, 1225)\n",
      "(6426, 1224)\n",
      "(6427, 1223)\n",
      "(6894, 1346)\n",
      "(6894, 2373)\n",
      "(6895, 2374)\n",
      "(6896, 2375)\n",
      "(6897, 2376)\n",
      "(7200, 320)\n",
      "(7595, 11)\n",
      "(7595, 780)\n",
      "(7596, 12)\n",
      "(7596, 779)\n",
      "(7597, 13)\n",
      "(7598, 14)\n",
      "(8041, 1591)\n",
      "(8042, 1592)\n",
      "(8042, 3043)\n",
      "(8283, 2034)\n",
      "(8283, 2202)\n",
      "(8694, 552)\n",
      "(8694, 1624)\n",
      "(8695, 1625)\n",
      "(8734, 134)\n",
      "(8734, 921)\n",
      "(8734, 1377)\n",
      "(8767, 2199)\n",
      "(8768, 2200)\n",
      "(8769, 2035)\n",
      "(8769, 2201)\n",
      "(8770, 2034)\n",
      "(8770, 2202)\n",
      "(8771, 2033)\n",
      "(8771, 2203)\n",
      "(8772, 2032)\n",
      "(9005, 999)\n",
      "(9006, 1000)\n",
      "(9006, 1441)\n",
      "(9547, 2618)\n",
      "(9547, 3406)\n",
      "(9548, 2617)\n",
      "(9615, 979)\n",
      "(9616, 978)\n",
      "(9617, 977)\n",
      "(9703, 2283)\n",
      "(9726, 823)\n",
      "(9726, 1954)\n",
      "(10137, 1111)\n",
      "(10137, 2561)\n",
      "(10138, 2560)\n",
      "(10503, 46)\n",
      "(10503, 1794)\n",
      "(10552, 220)\n",
      "(10552, 3091)\n",
      "(10840, 515)\n",
      "(10840, 1496)\n",
      "(11048, 1110)\n",
      "(11049, 1111)\n",
      "(11049, 2561)\n",
      "(11050, 2560)\n",
      "(11282, 658)\n",
      "(11615, 781)\n",
      "(11616, 11)\n",
      "(11616, 780)\n",
      "(11726, 10)\n",
      "(11727, 11)\n",
      "(11727, 780)\n",
      "(11905, 1078)\n",
      "(11905, 2789)\n",
      "(11906, 2788)\n",
      "(12278, 979)\n",
      "(12279, 978)\n",
      "(13368, 1743)\n",
      "(13368, 2741)\n",
      "(13369, 2740)\n",
      "(13572, 134)\n",
      "(13572, 921)\n",
      "(13572, 1377)\n",
      "(13573, 920)\n",
      "(13573, 1376)\n",
      "(13846, 552)\n",
      "(13846, 1624)\n",
      "(13953, 2283)\n",
      "(13954, 2282)\n",
      "(14087, 1885)\n",
      "(14088, 165)\n",
      "(14088, 1270)\n",
      "(14088, 1884)\n",
      "(14089, 1883)\n",
      "(14090, 1882)\n",
      "(14357, 1165)\n",
      "(14358, 1164)\n",
      "(14702, 1034)\n",
      "(14835, 1000)\n",
      "(14835, 1441)\n",
      "(15114, 3285)\n",
      "(15205, 552)\n",
      "(15205, 1624)\n",
      "(16531, 1592)\n",
      "(16531, 3043)\n",
      "(17423, 347)\n",
      "(17424, 348)\n",
      "(17612, 1814)\n",
      "(18199, 3088)\n",
      "(18200, 3089)\n",
      "(18201, 3090)\n",
      "(18202, 220)\n",
      "(18202, 3091)\n",
      "(18203, 219)\n",
      "(18204, 218)\n",
      "(18253, 2372)\n",
      "(18254, 1346)\n",
      "(18254, 2373)\n",
      "(18255, 2374)\n",
      "(18791, 2790)\n",
      "(18792, 1078)\n",
      "(18792, 2789)\n",
      "(19367, 3287)\n",
      "(19368, 3286)\n",
      "(19369, 3285)\n",
      "(19424, 1034)\n",
      "(19425, 1035)\n",
      "(19989, 320)\n",
      "(20076, 268)\n",
      "(20077, 267)\n",
      "(20077, 702)\n",
      "(20077, 1226)\n",
      "(20181, 348)\n",
      "(20343, 297)\n",
      "(20343, 2263)\n",
      "(20343, 2346)\n",
      "(20657, 346)\n",
      "(20658, 347)\n",
      "(20659, 348)\n",
      "(21003, 2070)\n",
      "(21004, 2069)\n"
     ]
    }
   ],
   "source": [
    "with open('ch7_data/dataset_369339_5.txt','r') as f:\n",
    "    k=int(f.readline().rstrip('\\n'))\n",
    "    seq1=f.readline().rstrip('\\n')\n",
    "    seq2=f.readline().rstrip('\\n')\n",
    "Shared_kmers(seq1,seq2,k)"
   ]
  },
  {
   "cell_type": "markdown",
   "metadata": {},
   "source": [
    "## 7.12 CS: From Genomes to the Breakpoint Graph"
   ]
  },
  {
   "cell_type": "markdown",
   "metadata": {},
   "source": [
    "### step.4 ChromosomeToCycle"
   ]
  },
  {
   "cell_type": "code",
   "execution_count": 47,
   "metadata": {},
   "outputs": [
    {
     "data": {
      "text/plain": [
       "[1, 2, 4, 3, 6, 5, 7, 8]"
      ]
     },
     "execution_count": 47,
     "metadata": {},
     "output_type": "execute_result"
    }
   ],
   "source": [
    "def ChromosomeToCycle(Chromosome):\n",
    "    Nodes=[]\n",
    "    for j in range(len(Chromosome)):\n",
    "        i=Chromosome[j]\n",
    "        if i>0:\n",
    "            Nodes.append(2*i-1)\n",
    "            Nodes.append(2*i)\n",
    "        else:\n",
    "            Nodes.append(-2*i)\n",
    "            Nodes.append(-2*i-1)\n",
    "    return Nodes\n",
    "\n",
    "Chromosome=[int(x) for x in '+1 -2 -3 +4'.split(' ')]\n",
    "ChromosomeToCycle(Chromosome)"
   ]
  },
  {
   "cell_type": "code",
   "execution_count": 50,
   "metadata": {},
   "outputs": [
    {
     "data": {
      "text/plain": [
       "'1 2 4 3 5 6 7 8 9 10 12 11 14 13 16 15 18 17 20 19 22 21 24 23 26 25 28 27 30 29 32 31 34 33 36 35 37 38 39 40 41 42 44 43 45 46 47 48 49 50 52 51 54 53 56 55 58 57 59 60 61 62 63 64 65 66 67 68 70 69 72 71 73 74 76 75 78 77 80 79 81 82 84 83 85 86 88 87 90 89 91 92 94 93 96 95 98 97 99 100 102 101 104 103 106 105 108 107 110 109 112 111 114 113 116 115 117 118 120 119 122 121 124 123 125 126 128 127 129 130 132 131 134 133'"
      ]
     },
     "execution_count": 50,
     "metadata": {},
     "output_type": "execute_result"
    }
   ],
   "source": [
    "with open('ch7_data/dataset_369340_4.txt','r') as f:\n",
    "    Chromosome=[int(x) for x in f.readline().rstrip('\\n').split(' ')]\n",
    "' '.join([str(x) for x in ChromosomeToCycle(Chromosome)])"
   ]
  },
  {
   "cell_type": "markdown",
   "metadata": {},
   "source": [
    "### step.5 CycleToChromosome"
   ]
  },
  {
   "cell_type": "code",
   "execution_count": 64,
   "metadata": {},
   "outputs": [
    {
     "data": {
      "text/plain": [
       "'+1 -2 -3 +4'"
      ]
     },
     "execution_count": 64,
     "metadata": {},
     "output_type": "execute_result"
    }
   ],
   "source": [
    "def CycleToChromosome(Nodes):\n",
    "    Chromosome=[]\n",
    "    for j in range(int(len(Nodes)/2)):\n",
    "        if Nodes[2*j]<Nodes[2*j+1]:\n",
    "            Chromosome.append(int(Nodes[2*j+1]/2))\n",
    "        else:\n",
    "            Chromosome.append(int(-Nodes[2*j]/2))\n",
    "    return Chromosome\n",
    "\n",
    "\n",
    "Nodes=[int(x) for x in '1 2 4 3 6 5 7 8'.split(' ')]\n",
    "' '.join([['+'+str(x),str(x)][x<0] for x in CycleToChromosome(Nodes)])"
   ]
  },
  {
   "cell_type": "code",
   "execution_count": 65,
   "metadata": {},
   "outputs": [
    {
     "data": {
      "text/plain": [
       "'-1 +2 +3 +4 +5 +6 -7 +8 -9 +10 +11 +12 +13 +14 +15 -16 +17 +18 -19 +20 +21 +22 +23 +24 -25 +26 -27 -28 +29 -30 +31 +32 +33 -34 -35 +36 -37 +38 -39 +40 +41 -42 -43 +44 -45 +46 +47 +48 +49 -50 -51 +52 +53 +54 +55 +56 -57 +58 +59 -60 +61 -62 +63 -64'"
      ]
     },
     "execution_count": 65,
     "metadata": {},
     "output_type": "execute_result"
    }
   ],
   "source": [
    "with open('ch7_data/dataset_369340_5.txt','r') as f:\n",
    "    Nodes=[int(x) for x in f.readline().rstrip('\\n').split(' ')]\n",
    "' '.join([['+'+str(x),str(x)][x<0] for x in CycleToChromosome(Nodes)])\n"
   ]
  },
  {
   "cell_type": "markdown",
   "metadata": {},
   "source": [
    "### step.7 ColoredEdges"
   ]
  },
  {
   "cell_type": "code",
   "execution_count": 109,
   "metadata": {},
   "outputs": [
    {
     "data": {
      "text/plain": [
       "[(11, 7), (10, 12), (8, 9), (3, 6), (5, 1), (2, 4)]"
      ]
     },
     "execution_count": 109,
     "metadata": {},
     "output_type": "execute_result"
    }
   ],
   "source": [
    "def ChromosomeToCycle(Chromosome):\n",
    "    Nodes=[]\n",
    "    for j in range(len(Chromosome)):\n",
    "        i=Chromosome[j]\n",
    "        if i>0:\n",
    "            Nodes.append(2*i-1)\n",
    "            Nodes.append(2*i)\n",
    "        else:\n",
    "            Nodes.append(-2*i)\n",
    "            Nodes.append(-2*i-1)\n",
    "    return Nodes\n",
    "\n",
    "def ColoredEdges(P):\n",
    "    P=[[int(y) for y in x.split(' ')] for x in P[1:-1].split(')(')]\n",
    "    Edges=[]\n",
    "    for Chromosome in P:\n",
    "        Nodes=ChromosomeToCycle(Chromosome)\n",
    "        Nodes=Nodes+Nodes # to keep the head and tail\n",
    "        #print(Nodes)\n",
    "        for j in range(1,len(Chromosome)+1):\n",
    "            Edges.append((Nodes[2*j-1],Nodes[2*j]))\n",
    "    return list(set(Edges))\n",
    "\n",
    "P='(+1 -2 -3)(+4 +5 -6)'\n",
    "ColoredEdges(P)"
   ]
  },
  {
   "cell_type": "code",
   "execution_count": 108,
   "metadata": {},
   "outputs": [
    {
     "name": "stdout",
     "output_type": "stream",
     "text": [
      "[(65, 67), (86, 87), (202, 203), (310, 311), (318, 320), (348, 349), (282, 284), (372, 331), (410, 412), (200, 201), (18, 19), (110, 111), (146, 147), (350, 351), (366, 367), (395, 398), (5, 8), (103, 105), (133, 136), (144, 145), (160, 161), (390, 391), (38, 40), (44, 45), (84, 85), (172, 173), (204, 205), (300, 301), (308, 309), (392, 394), (178, 180), (73, 75), (187, 190), (162, 164), (279, 281), (384, 386), (140, 142), (148, 150), (182, 184), (252, 253), (404, 406), (312, 314), (193, 196), (249, 251), (313, 315), (245, 248), (256, 257), (60, 62), (68, 70), (413, 416), (128, 130), (48, 50), (149, 152), (95, 97), (192, 194), (277, 280), (304, 306), (241, 243), (22, 23), (106, 107), (286, 288), (305, 307), (362, 363), (88, 90), (153, 155), (119, 122), (247, 250), (375, 378), (274, 213), (39, 41), (58, 59), (92, 94), (156, 158), (356, 358), (20, 21), (405, 408), (157, 159), (165, 167), (72, 74), (168, 170), (269, 272), (296, 298), (397, 400), (297, 299), (79, 82), (195, 198), (259, 262), (399, 402), (352, 354), (179, 181), (401, 403), (52, 54), (76, 78), (118, 120), (163, 109), (332, 334), (340, 342), (237, 239), (206, 207), (31, 34), (63, 66), (287, 290), (135, 137), (327, 329), (335, 337), (4, 6), (326, 328), (261, 263), (93, 96), (221, 224), (240, 242), (233, 236), (319, 321), (322, 324), (373, 376), (415, 417), (42, 43), (214, 215), (36, 37), (228, 229), (330, 275), (368, 370), (89, 91), (46, 47), (174, 175), (151, 154), (210, 211), (217, 219), (302, 303), (338, 339), (343, 346), (345, 347), (99, 101), (16, 17), (208, 209), (102, 104), (357, 359), (232, 234), (108, 51), (264, 266), (265, 267), (98, 100), (407, 409), (81, 83), (225, 227), (12, 14), (244, 246), (268, 270), (124, 125), (276, 278), (353, 355), (13, 15), (141, 143), (129, 132), (385, 388), (121, 123), (2, 3), (126, 127), (212, 166), (223, 226), (254, 255), (382, 383), (379, 381), (189, 191), (29, 32), (61, 64), (411, 414), (258, 260), (341, 344), (393, 396), (369, 371), (10, 11), (138, 139), (24, 26), (216, 218), (360, 361), (25, 27), (418, 374), (183, 186), (235, 238), (185, 188), (283, 285), (377, 380), (28, 30), (220, 222), (292, 294), (364, 365), (293, 295), (77, 80), (333, 336), (169, 171), (131, 134), (55, 57), (115, 117), (33, 35), (289, 291), (316, 317), (113, 116), (7, 9), (176, 177), (271, 273), (323, 325), (387, 389), (230, 231), (69, 71), (197, 199), (49, 1), (112, 114), (53, 56)]\n"
     ]
    }
   ],
   "source": [
    "with open('ch7_data/dataset_369340_7.txt','r') as f:\n",
    "    P=f.readline().rstrip('\\n')\n",
    "print(ColoredEdges(P))"
   ]
  },
  {
   "cell_type": "markdown",
   "metadata": {},
   "source": [
    "### step.8 GraphToGenome"
   ]
  },
  {
   "cell_type": "code",
   "execution_count": 133,
   "metadata": {},
   "outputs": [
    {
     "data": {
      "text/plain": [
       "'(+77 +78 -79 +80 +81 +82 -83 -84 +85 +86 -87 +88 -89 -90 -91 -92 -93 +94 -95 +96 -97 -98)'"
      ]
     },
     "execution_count": 133,
     "metadata": {},
     "output_type": "execute_result"
    }
   ],
   "source": [
    "def CycleToChromosome(Nodes):\n",
    "    Chromosome=[]\n",
    "    for j in range(int(len(Nodes)/2)):\n",
    "        if Nodes[2*j]<Nodes[2*j+1]:\n",
    "            Chromosome.append(int(Nodes[2*j+1]/2))\n",
    "        else:\n",
    "            Chromosome.append(int(-Nodes[2*j]/2))\n",
    "    return Chromosome\n",
    "\n",
    "def GraphToGenome(GenomeGraph):\n",
    "    P=[]\n",
    "    head=GenomeGraph[0][0]\n",
    "    Nodes=[]\n",
    "    for nodes in GenomeGraph:\n",
    "        if head==None:\n",
    "            head=nodes[0]\n",
    "        if np.abs(head-nodes[1])!=1:\n",
    "            Nodes.append(nodes[0])\n",
    "            Nodes.append(nodes[1])\n",
    "        if np.abs(head-nodes[1])==1 and head==nodes[0]:\n",
    "            Nodes.append(nodes[0])\n",
    "            Nodes.append(nodes[1])\n",
    "        if np.abs(head-nodes[1])==1 and head!=nodes[0]:\n",
    "            Nodes.append(nodes[0])\n",
    "            Nodes.append(nodes[1])\n",
    "            #print(Nodes,Nodes[-1],Nodes[:-1])\n",
    "            Nodes=[Nodes[-1]]+Nodes[:-1]\n",
    "            Chromosome=CycleToChromosome(Nodes)\n",
    "            Nodes=[]\n",
    "            head=None\n",
    "            P.append(Chromosome)\n",
    "    Format_Output=''\n",
    "    for p in P:\n",
    "        Format_Output+='(%s)'%(' '.join([[str(x),'+'+str(x)][x>0] for x in p]))\n",
    "    return Format_Output\n",
    "    \n",
    "\n",
    "GenomeGraph=[(2, 4), (3, 6), (5, 1), (7, 9), (10, 12), (11, 8)]\n",
    "GraphToGenome(GenomeGraph)\n",
    "\n",
    "GenomeGraph=[(154, 155), (156, 158), (157, 159), (160, 161), (162, 163), (164, 166), (165, 168), (167, 169), (170, 171), (172, 174), (173, 175), (176, 178), (177, 180), (179, 182), (181, 184), (183, 186), (185, 187), (188, 190), (189, 191), (192, 194), (193, 196), (195, 153)]\n",
    "GraphToGenome(GenomeGraph)"
   ]
  },
  {
   "cell_type": "code",
   "execution_count": 137,
   "metadata": {
    "scrolled": true
   },
   "outputs": [
    {
     "data": {
      "text/plain": [
       "'(-1 +2 -3 -4 +5 -6 +7 -8 +9 +10 +11 -12 +13 -14 +15 +16 +17 -18 +19 -20 +21 -22 +23 -24)(+25 +26 -27 -28 +29 +30 -31 -32 -33 -34 -35 +36 -37 -38 +39 -40 -41 +42 +43 -44 +45 +46 -47)(-48 -49 -50 +51 -52 -53 -54 -55 -56 -57 +58 +59 +60 +61 -62 +63 -64 -65 +66 +67 -68 +69 -70 -71 -72 +73 -74 -75 +76)(-77 +78 -79 -80 +81 +82 +83 +84 +85 -86 -87 +88 +89 -90 -91 -92 +93 -94 +95 +96 -97 -98 -99 -100 -101 -102 +103 -104 -105)(-106 -107 -108 +109 +110 -111 -112 -113 -114 -115 -116 +117 +118 -119 +120 +121 -122 -123 -124 -125 +126 +127 -128 +129 -130 +131)(-132 -133 -134 +135 +136 -137 -138 +139 -140 +141 +142 -143 +144 -145 +146 -147 +148 +149 -150 +151)(+152 +153 +154 -155 +156 +157 +158 -159 -160 +161 +162 -163 +164 -165 -166 -167 +168 +169 +170 +171 +172 +173 -174 +175 -176 -177 -178 -179 -180 +181)(+182 -183 +184 +185 +186 +187 +188 +189 +190 -191 -192 +193 +194 -195 -196 -197 -198 +199 +200 -201 +202 +203)'"
      ]
     },
     "execution_count": 137,
     "metadata": {},
     "output_type": "execute_result"
    }
   ],
   "source": [
    "GenomeGraph=[(1, 3), (4, 6), (5, 8), (7, 9), (10, 12), (11, 13), (14, 16), (15, 17), (18, 19), (20, 21), (22, 24), (23, 25), (26, 28), (27, 29), (30, 31), (32, 33), (34, 36), (35, 37), (38, 40), (39, 41), (42, 44), (43, 45), (46, 48), (47, 2), (50, 51), (52, 54), (53, 56), (55, 57), (58, 59), (60, 62), (61, 64), (63, 66), (65, 68), (67, 70), (69, 71), (72, 74), (73, 76), (75, 77), (78, 80), (79, 82), (81, 83), (84, 85), (86, 88), (87, 89), (90, 91), (92, 94), (93, 49), (95, 98), (97, 100), (99, 101), (102, 104), (103, 106), (105, 108), (107, 110), (109, 112), (111, 114), (113, 115), (116, 117), (118, 119), (120, 121), (122, 124), (123, 125), (126, 128), (127, 130), (129, 131), (132, 133), (134, 136), (135, 137), (138, 140), (139, 142), (141, 144), (143, 145), (146, 148), (147, 150), (149, 151), (152, 96), (153, 155), (156, 158), (157, 160), (159, 161), (162, 163), (164, 165), (166, 167), (168, 169), (170, 172), (171, 174), (173, 175), (176, 177), (178, 180), (179, 182), (181, 184), (183, 185), (186, 188), (187, 189), (190, 191), (192, 194), (193, 196), (195, 198), (197, 200), (199, 202), (201, 204), (203, 205), (206, 208), (207, 210), (209, 154), (211, 214), (213, 216), (215, 217), (218, 219), (220, 222), (221, 224), (223, 226), (225, 228), (227, 230), (229, 232), (231, 233), (234, 235), (236, 238), (237, 239), (240, 241), (242, 244), (243, 246), (245, 248), (247, 250), (249, 251), (252, 253), (254, 256), (255, 257), (258, 260), (259, 261), (262, 212), (263, 266), (265, 268), (267, 269), (270, 271), (272, 274), (273, 276), (275, 277), (278, 280), (279, 281), (282, 283), (284, 286), (285, 287), (288, 290), (289, 291), (292, 294), (293, 295), (296, 297), (298, 300), (299, 301), (302, 264), (304, 305), (306, 307), (308, 310), (309, 311), (312, 313), (314, 315), (316, 318), (317, 320), (319, 321), (322, 323), (324, 326), (325, 327), (328, 330), (329, 332), (331, 334), (333, 335), (336, 337), (338, 339), (340, 341), (342, 343), (344, 345), (346, 348), (347, 349), (350, 352), (351, 354), (353, 356), (355, 358), (357, 360), (359, 361), (362, 303), (364, 366), (365, 367), (368, 369), (370, 371), (372, 373), (374, 375), (376, 377), (378, 379), (380, 382), (381, 384), (383, 385), (386, 387), (388, 390), (389, 392), (391, 394), (393, 396), (395, 397), (398, 399), (400, 402), (401, 403), (404, 405), (406, 363)]\n",
    "GraphToGenome(GenomeGraph)"
   ]
  },
  {
   "cell_type": "markdown",
   "metadata": {},
   "source": [
    "## 7.13 CS: Solving the 2-Break Sorting Problem"
   ]
  },
  {
   "cell_type": "markdown",
   "metadata": {},
   "source": [
    "### step.2 2-BreakOnGenomeGraph"
   ]
  },
  {
   "cell_type": "code",
   "execution_count": 9,
   "metadata": {},
   "outputs": [
    {
     "name": "stdout",
     "output_type": "stream",
     "text": [
      "[(2, 4), (7, 5), (1, 3), (6, 8)]\n"
     ]
    }
   ],
   "source": [
    "def _2BreakOnGenomeGraph(GenomeGraph,i1 , i2 , i3 , i4):\n",
    "    try:\n",
    "        GenomeGraph.remove((i1,i2))\n",
    "    except:\n",
    "        pass\n",
    "    try:\n",
    "        GenomeGraph.remove((i2,i1))\n",
    "    except:\n",
    "        pass\n",
    "    try:\n",
    "        GenomeGraph.remove((i3,i4))\n",
    "    except:\n",
    "        pass\n",
    "    try:\n",
    "        GenomeGraph.remove((i4,i3))\n",
    "    except:\n",
    "        pass\n",
    "    GenomeGraph.append((i1,i3))\n",
    "    GenomeGraph.append((i2,i4))\n",
    "    return GenomeGraph\n",
    "\n",
    "GenomeGraph=[(2, 4), (3, 8), (7, 5), (6, 1)]\n",
    "i1,i2,i3,i4=1, 6, 3, 8\n",
    "print(_2BreakOnGenomeGraph(GenomeGraph,i1 , i2 , i3 , i4))"
   ]
  },
  {
   "cell_type": "code",
   "execution_count": 8,
   "metadata": {},
   "outputs": [
    {
     "name": "stdout",
     "output_type": "stream",
     "text": [
      "[(1, 4), (3, 5), (6, 8), (7, 9), (10, 11), (12, 13), (14, 16), (15, 17), (18, 20), (19, 22), (21, 24), (23, 25), (26, 27), (28, 29), (30, 31), (32, 33), (34, 36), (35, 37), (38, 40), (39, 42), (41, 43), (44, 45), (46, 48), (47, 50), (49, 52), (51, 54), (53, 55), (56, 58), (57, 59), (60, 61), (62, 63), (64, 65), (66, 68), (67, 69), (71, 74), (73, 75), (76, 78), (77, 80), (79, 81), (82, 83), (84, 85), (86, 88), (87, 89), (90, 92), (91, 94), (93, 95), (96, 98), (97, 100), (99, 101), (102, 104), (105, 108), (107, 109), (110, 112), (111, 113), (114, 115), (116, 118), (117, 120), (119, 121), (122, 124), (123, 126), (125, 2), (70, 103), (72, 106)]\n"
     ]
    }
   ],
   "source": [
    "GenomeGraph=[(1, 4), (3, 5), (6, 8), (7, 9), (10, 11), (12, 13), (14, 16), (15, 17), (18, 20), (19, 22), (21, 24), (23, 25), (26, 27), (28, 29), (30, 31), (32, 33), (34, 36), (35, 37), (38, 40), (39, 42), (41, 43), (44, 45), (46, 48), (47, 50), (49, 52), (51, 54), (53, 55), (56, 58), (57, 59), (60, 61), (62, 63), (64, 65), (66, 68), (67, 69), (70, 72), (71, 74), (73, 75), (76, 78), (77, 80), (79, 81), (82, 83), (84, 85), (86, 88), (87, 89), (90, 92), (91, 94), (93, 95), (96, 98), (97, 100), (99, 101), (102, 104), (103, 106), (105, 108), (107, 109), (110, 112), (111, 113), (114, 115), (116, 118), (117, 120), (119, 121), (122, 124), (123, 126), (125, 2)]\n",
    "i1,i2,i3,i4=70, 72, 103, 106\n",
    "print(_2BreakOnGenomeGraph(GenomeGraph,i1 , i2 , i3 , i4))"
   ]
  },
  {
   "cell_type": "markdown",
   "metadata": {},
   "source": [
    "### step.3 2-BreakOnGenome"
   ]
  },
  {
   "cell_type": "code",
   "execution_count": 88,
   "metadata": {},
   "outputs": [
    {
     "data": {
      "text/plain": [
       "'(+1 -2)(-4 +3)'"
      ]
     },
     "execution_count": 88,
     "metadata": {},
     "output_type": "execute_result"
    }
   ],
   "source": [
    "import numpy as np\n",
    "\n",
    "def ColoredEdges(P):\n",
    "    P=[[int(y) for y in x.split(' ')] for x in P[1:-1].split(')(')]\n",
    "    Edges=[]\n",
    "    for Chromosome in P:\n",
    "        Nodes=ChromosomeToCycle(Chromosome)\n",
    "        Nodes=Nodes+Nodes # to keep the head and tail\n",
    "        #print(Nodes)\n",
    "        for j in range(1,len(Chromosome)+1):\n",
    "            #print((Nodes[2*j-1],Nodes[2*j]))\n",
    "            Edges.append((Nodes[2*j-1],Nodes[2*j]))\n",
    "    return Edges # in this problem we dont neet to get the set of Edges, cause this will change the order of edges\n",
    "\n",
    "def _2BreakOnGenomeGraph(GenomeGraph,i1 , i2 , i3 , i4):\n",
    "    try:\n",
    "        GenomeGraph.remove((i1,i2))\n",
    "    except:\n",
    "        pass\n",
    "    try:\n",
    "        GenomeGraph.remove((i2,i1))\n",
    "    except:\n",
    "        pass\n",
    "    try:\n",
    "        GenomeGraph.remove((i3,i4))\n",
    "    except:\n",
    "        pass\n",
    "    try:\n",
    "        GenomeGraph.remove((i4,i3))\n",
    "    except:\n",
    "        pass\n",
    "    GenomeGraph.append((i1,i3))\n",
    "    GenomeGraph.append((i2,i4))\n",
    "    return GenomeGraph\n",
    "\n",
    "def GraphToGenome(Graph):\n",
    "    \n",
    "    Genome = []\n",
    "    Visited = []\n",
    "    AdjMatrix = np.zeros(len(Graph)*2, dtype = np.int)\n",
    "    for edge in Graph:\n",
    "        AdjMatrix[edge[0]-1]=edge[1]-1\n",
    "        AdjMatrix[edge[1]-1]=edge[0]-1\n",
    "    for edge in Graph:\n",
    "        head=edge[0]\n",
    "        if head in Visited:\n",
    "            continue\n",
    "        Visited.append(head)\n",
    "        if head%2==0:\n",
    "            tail=head-1\n",
    "        else:\n",
    "            tail=head+1\n",
    "        p=[]\n",
    "        i=0\n",
    "        while(True):\n",
    "            if head%2==0:\n",
    "                p.append(int(head/2))\n",
    "            else:\n",
    "                p.append(int(-(head+1)/2))\n",
    "            dest=AdjMatrix[head-1]+1\n",
    "            i=i+1\n",
    "            #if (i>100):\n",
    "            #    assert False\n",
    "            #    return\n",
    "            Visited.append(dest)\n",
    "            if (dest==tail):\n",
    "                Genome.append(p)\n",
    "                break\n",
    "            if (dest%2==0):\n",
    "                head=dest-1\n",
    "            else:\n",
    "                head=dest+1\n",
    "            assert head>0\n",
    "            Visited.append(head)\n",
    "    Format_Output=''\n",
    "    for p in Genome:\n",
    "        Format_Output+='(%s)'%(' '.join([[str(x),'+'+str(x)][x>0] for x in p]))\n",
    "    return Format_Output\n",
    "\n",
    "def _2BreakOnGenome(P, i1 , i2 , i3 , i4 ):\n",
    "    Edges_P=ColoredEdges(P)\n",
    "    New_Edges_P=_2BreakOnGenomeGraph_PosiFix(Edges_P.copy(),i1,i2,i3,i4)\n",
    "    New_P=GraphToGenome(New_Edges_P)\n",
    "    #print(Edges_P,New_Edges_P,New_P)\n",
    "    return New_P\n",
    "    \n",
    "P='(+1 -2 -4 +3)'\n",
    "i1,i2,i3,i4=1, 6, 3, 8\n",
    "_2BreakOnGenome(P, i1 , i2 , i3 , i4 )"
   ]
  },
  {
   "cell_type": "code",
   "execution_count": 89,
   "metadata": {},
   "outputs": [
    {
     "name": "stdout",
     "output_type": "stream",
     "text": [
      "(-1 +2 -3 -4 -5 -6 -7 +8 +9 +10 +11 +12 +13 +14 +15 -16 -17 -18 +19 -20 +21 +22 -23 -24 +25 -26 -27 +28 -29 -30 +31 +32 +33 -34 -35 +36 -59 -60 -61 +62 -63 +64 +65 -66 -67)(-37 -58 +57 +56 +55 -54 -53 -52 +51 -50 -49 -48 +47 -46 -45 -44 +43 -42 -41 +40 -39 -38)\n"
     ]
    }
   ],
   "source": [
    "P='(-1 +2 -3 -4 -5 -6 -7 +8 +9 +10 +11 +12 +13 +14 +15 -16 -17 -18 +19 -20 +21 +22 -23 -24 +25 -26 -27 +28 -29 -30 +31 +32 +33 -34 -35 +36 +37 +38 +39 -40 +41 +42 -43 +44 +45 +46 -47 +48 +49 +50 -51 +52 +53 +54 -55 -56 -57 +58 -59 -60 -61 +62 -63 +64 +65 -66 -67)'\n",
    "i1,i2,i3,i4=116, 118, 73,72\n",
    "print(_2BreakOnGenome(P, i1 , i2 , i3 , i4 ))"
   ]
  },
  {
   "cell_type": "code",
   "execution_count": 91,
   "metadata": {},
   "outputs": [
    {
     "name": "stdout",
     "output_type": "stream",
     "text": [
      "(-42 +55 -56 +46 +37 +20 +58 -16 +32 -43 +4 -15 +8 +25 +19 -41 +60 +23 +51 +27 +17 +2 -63 -52 +11 +64 -45 -12 -22 +33 -48 +29 +10 +18 +62 -3 +6 -7 +50 -66 +9 +14 +47 -1 +40 -61 +28 -35 +31 +38 -44 -13 -49 +54 +24 +53 -36 -59 +39 +21 +57 -30 +65 -34 -5 -26)\n"
     ]
    }
   ],
   "source": [
    "P='(-42 +55 -56 +46 +37 +20 +58 -16 +32 -4 +43 -15 +8 +25 +19 -41 +60 +23 +51 +27 +17 +2 -63 -52 +11 +64 -45 -12 -22 +33 -48 +29 +10 +18 +62 -3 +6 -7 +50 -66 +9 +14 +47 -1 +40 -61 +28 -35 +31 +38 -44 -13 -49 +54 +24 +53 -36 -59 +39 +21 +57 -30 +65 -34 -5 -26)'\n",
    "i1,i2,i3,i4=86, 30, 64, 8\n",
    "print(_2BreakOnGenome(P, i1 , i2 , i3 , i4 ))"
   ]
  }
 ],
 "metadata": {
  "kernelspec": {
   "display_name": "p36",
   "language": "python",
   "name": "p36"
  },
  "language_info": {
   "codemirror_mode": {
    "name": "ipython",
    "version": 3
   },
   "file_extension": ".py",
   "mimetype": "text/x-python",
   "name": "python",
   "nbconvert_exporter": "python",
   "pygments_lexer": "ipython3",
   "version": "3.6.7"
  },
  "toc": {
   "base_numbering": 1,
   "nav_menu": {},
   "number_sections": true,
   "sideBar": true,
   "skip_h1_title": false,
   "title_cell": "Table of Contents",
   "title_sidebar": "Contents",
   "toc_cell": false,
   "toc_position": {
    "height": "calc(100% - 180px)",
    "left": "10px",
    "top": "150px",
    "width": "251.390625px"
   },
   "toc_section_display": true,
   "toc_window_display": true
  }
 },
 "nbformat": 4,
 "nbformat_minor": 2
}
