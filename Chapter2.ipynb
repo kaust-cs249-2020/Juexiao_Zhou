{
 "cells": [
  {
   "cell_type": "markdown",
   "metadata": {},
   "source": [
    "# Codes for Stepik"
   ]
  },
  {
   "cell_type": "markdown",
   "metadata": {},
   "source": [
    "## 2.12 CS: Solving the Median String Problem"
   ]
  },
  {
   "cell_type": "code",
   "execution_count": 96,
   "metadata": {},
   "outputs": [
    {
     "data": {
      "text/plain": [
       "5"
      ]
     },
     "execution_count": 96,
     "metadata": {},
     "output_type": "execute_result"
    }
   ],
   "source": [
    "import numpy as np\n",
    "def DistanceBetweenPatternAndStrings(Pattern, Dna):\n",
    "    total_distance=0\n",
    "    for text in Dna:\n",
    "        HammingDis=np.inf\n",
    "        for i in range(len(text)-len(Pattern)+1):\n",
    "            curHammingDis=Hamming_Distance(Pattern,text[i:i+len(Pattern)])\n",
    "            if HammingDis>curHammingDis:\n",
    "                HammingDis=curHammingDis\n",
    "        total_distance+=HammingDis\n",
    "    return total_distance\n",
    "\n",
    "Pattern='AAA'\n",
    "Dna='TTACCTTAAC GATATCTGTC ACGGCGTTCG CCCTAAAGAG CGTCAGAGGT'.split(' ')\n",
    "DistanceBetweenPatternAndStrings(Pattern,Dna)"
   ]
  },
  {
   "cell_type": "code",
   "execution_count": 97,
   "metadata": {},
   "outputs": [
    {
     "data": {
      "text/plain": [
       "60"
      ]
     },
     "execution_count": 97,
     "metadata": {},
     "output_type": "execute_result"
    }
   ],
   "source": [
    "Pattern='ATATTG'\n",
    "Dna='CGGCAGTATAGAAGATCGTTTTTACAGTTATTACGCCGCTAGAGAGTGGAGAGGTGCGCCGAGTGCCACTAACCACGTTGTGTAATGCTGGGACAG GTTTGCGTTTAGGCGAGCATGTCATTTTGAGTGCAGGTGCACACGACCAAGATTCTCTCTTTGTCCATCTAAACACTCAGTGGCGGTACCGAGGAC TTTTTTCTATCATGTGAATTATGATAAACGCAGTCCGTCAATCAGTGCTGAAAAGATGTTGGAGTTCGGCCAATATATTAGTTAGGTACCACAGTT AAGTAGCATCGCTCATCCTGCCGGAGCATGCTGTTAAAGGTTCAGGCAAACTTCCTAGCCTAATAACCTTTGGGCGTTGAGCCTGGTGAGATGGCG AGTAAGAGGCCGCTATTCCGTGCCCAACCGGTCCTTCGAGGTCGACACGCCGTCCGGGACGATAGCAGGACACGTTATAGGTTAATTAACCACTTA CATCGGTGAGACTGCTAATGCAAGAGGCATTATCATTTATAAATGGACGGAAAATATGTGTATCTCGTCACACGTTTCTCCCGCGGAAGTCTCGTT CCCGGGGTGACAAAGAGTAATCTGACCCCTGCGGTCAGAACTTCCCCGGGTTAACGGCGCAATCGGTGAAATTATTCTTGAGCTTAGTCACAGTAT GCTGCGGAGAGCGTGATTGGAATCCCGGCTATGCAACTCTCTATCGTTGACACCGTAATCCGTATGTTCATTCAGCAGGGGATCTGAGCCATTCGT GAGTGACCCTCCGTCGCTAATATCGCCCGAGATGTGACTTAGGATCAGATCTGGGTTTCAAACGGACCAGCATATGGTGTCACGTATTGCAAGGAT CATTGACTCTACGCTGTCTATGGATTTGCTCCAGCATTGGCCGGGTTCCCAGGCCCACGCTGACTGGCTCCACGGCAACGCTTACGGGGGACTTGT CTGCGCTCCGATACTTTCGGCGTTGGCTCTTGTCGTGGATCAGGTTGTGCATACCTTTGATTATGCTTATAAAAAGCTTGGTTTCTTTATTTCAAC TGCAGTTGTACAGATCGAGGCTAGTTCTTGCTGCGTTATTCAAAAAGTATAGGCGGTTGCCCGTCCACGCGGAGACACAAGGACCTCTATATCTAC ACCCTCACACCGGGTTGTATTTAATTTGAAGTTGGACGCCCATCCTAGGCTTCAACGAATCCGGTTAGCGGTTATTTTCAAAGAGCAGAGTCGAAC CGGTATAACTTGCGGGAAGCTTAGGTCTTCATACAGACCCTGCGGGTTAAAGGGAACATCCAGCAATACTCGTTATGGCGGGTCTCCGCAACACCG TTCAGCGTTCACTCCGCCCCCAAAACCCTAAGTAGCTGTTCCCCGTTTTCCACTTGATTACACTCTGAGTAGACTCCAAGGCTTACCCAATAAATT ACTGTGGAGCGATGCATTCATAGCTACTGACTCGAATAGGCAGACCGTTTGGTCTGTATACCCAGCATCCACTACTTTCTCATACGGGATTAAGGT CATCAAAGCAACTTTCTATTGGGTGCACAGGCTCGATCAACAGTTGGTTTGAGCTTACGTGATTGCAGTATCCCGAAGAAGAGATAGATCTCCGAC CATCACACGGTCTAAGCATCATCCCTGCCTGGTTCACTCGTACACTTAAATATTCATCCCCTGCGCTTAAAAATATCTCCGGAATTCAAGTTGTGC GTAGTAGTCTGGGAAGACCTTCGGGTGATCGGTGTAACAATGAATCAGGCCTTGGGAACTAAAATCGAGTCATTTCGCGATTACTGTTATAACTTG GGTACCGCATATCAACGATCTGTTAGCTAGTAGATGAGGCTTTCGCTACGACAACAGAACTTAGTATTCAGACGCCAGGAATGGTTTATAGGGGGG TTTCACCGCTATAATACACGCCTGACCAAGTATTGAGGCTGTAGACGTAATGCACATCGCCCTAACCGCGAAGACCTGAGCTACACTATAGTTCCG GCGTAATGTAGTGACCGAAGCTATGTCCAAAGTGTTTCACCACTTTCCCTCGGAGTTCTGCATTCGATTTACGAAAACTTCATGGTTATGAGAAGC CACACCTCAAGACATCCTTTGGGGTGCCCGCACTAGGCCTCTGCGACTGACCGGTGCACCTCAAAATCGGTTCAAATGCACACTGGGTGGAGGCCG AGGGATATGCAGTTGGGACTAGTGCCCGTGAAGTAATAAAGTGAGATCATATCAAGTCTGCGCATGAGACGCTTTAATCTTCGGAGTCGAGTCACA GCCATTGGATTGCTAAATTTGTGAAGAGACTCGTACAATCATCACAGGGCCCAGATCTCGGACCTAGAAATTAATGTCCCTACCGCTAACGTCGAC CTTTAACGTTAATCCTACGGTACTTTCACCCTGCTGTCAACTGGAACTCTCTTGTCAAGAGACAGTCTTCAGTCAGAGAGACCGCATTAGGACCAG CGAACCACAGCGGAAGTCAGTTGCCAGGCAACGGGATCTCACGGCGCAACAGACCCAAATGCCCCTCGAGTTTGATCCTTTAACAGTCCGCTTAAA CCCTGCTAAGCTAAGCTCCATACCAGGAATACGTCGTCAGCGTTGGGAGTGTTAATGTCCAAAAGAACCAACCCAAAAAAGGATCTACTTCCGGTA GGGGCATCACGGATACCCTTATAGAGTGCGTGGCAGGAGCTAGAATCAAGAGCTGACTATAATTGCAATCTCGCGCATTATTAATTCAGTTTTATT ATCGCAGCTTAAAAATTTTCACTAAATGGACGTGTAGGATATGCAATCCATGCCTCTATACTGTCGACCACAGTGAACGATAGGGGGCATGCGCGT CCCCCGGTGACTACCCCACATCATGTCCTAATCCAATGGTCTTTGGCAAGCGGTGCAATTTTAAGAGAAGAAATGCCGTCAACTGTCATACGATCT ATCCGTGCCTTTACATAATACTCATTCCGTACATTTGATCATAGCGACCTAATCCACCCGTATGGGCGGTGTTTGGAACAGGCTTACTAAATTCGC CTAGCAGCTTGTCACGAAGTCGTGTACTCCTTACAGCGATGGCCTAAGTTGCTGTAAAACCAATGATGTCTGGAGTTGGCTCTCCTTTCGTCAATC'.split(' ')\n",
    "DistanceBetweenPatternAndStrings(Pattern,Dna)"
   ]
  },
  {
   "cell_type": "code",
   "execution_count": 105,
   "metadata": {},
   "outputs": [
    {
     "data": {
      "text/plain": [
       "'GAC'"
      ]
     },
     "execution_count": 105,
     "metadata": {},
     "output_type": "execute_result"
    }
   ],
   "source": [
    "def Suffix(Pattern):\n",
    "    return Pattern[1::]\n",
    "\n",
    "def Neighbors(Pattern,d):\n",
    "    if d==0:\n",
    "        return [Pattern]\n",
    "    if len(Pattern)==1:\n",
    "        return ['A','T','C','G']\n",
    "    Neighborhood=[]\n",
    "    SuffixNeighbors=Neighbors(Suffix(Pattern),d)\n",
    "    for Text in SuffixNeighbors:\n",
    "        if Hamming_Distance(Suffix(Pattern),Text)<d:\n",
    "            for x in ['A','T','C','G']:\n",
    "                Neighborhood.append(x+Text)\n",
    "        else:\n",
    "            Neighborhood.append(Pattern[0]+Text)\n",
    "    return Neighborhood\n",
    "\n",
    "def AllStrings(k):\n",
    "    return Neighbors('A'*k,k)\n",
    "\n",
    "def MedianString(Dna, k):\n",
    "    distance=np.inf\n",
    "    Patterns=AllStrings(k)\n",
    "    for Pattern in Patterns:\n",
    "        cur_distance=DistanceBetweenPatternAndStrings(Pattern,Dna)\n",
    "        if distance>cur_distance:\n",
    "            distance=cur_distance\n",
    "            Median=Pattern\n",
    "    return Median\n",
    "\n",
    "Dna='AAATTGACGCAT GACGACCACGTT CGTCAGCGCCTG GCTGAGCACCGG AGTTCGGGACAG'.split(' ')\n",
    "k=3\n",
    "MedianString(Dna,k)\n"
   ]
  },
  {
   "cell_type": "code",
   "execution_count": 106,
   "metadata": {},
   "outputs": [
    {
     "data": {
      "text/plain": [
       "'GATTTT'"
      ]
     },
     "execution_count": 106,
     "metadata": {},
     "output_type": "execute_result"
    }
   ],
   "source": [
    "Dna='TGGGCTTTCACACAACTATTCCGCTTTCTCGATTTTTTGAAA AGCTATCTCCGTGAGTCAGTGTAGAGCATAGCGCCACATTTT TATGCAATTTCCACCGTTATATCAACCCTAGGTGTTGATTTT ACTGATCGTATCTTCTATTTAGGCGATTTTAGTTCCTATTGT GGTTATTAGTTCGTGGTGTCTTGTTATTTTGCCAGTCCGCTT GTCATCCATAGAATCTGCCGAATAATTCTGGATTTTGAACGC CTAGTGGGAATCTATTTTGAACAAGCCGGACAGTATTACCGG GAAACGGTTACTGATTTTCTGAAGAACCTTTAGAATCCCTTT GATCCAAATTTTGCACTAAGCTAGCGGACAAACTTGGACGAT TCGAGGTCCGGGACCAAGGCGCTGCATTTTACGTAGATCTAT'.split(' ')\n",
    "k=6\n",
    "MedianString(Dna,k)"
   ]
  },
  {
   "cell_type": "markdown",
   "metadata": {},
   "source": [
    "## 2.5 Greedy Motif Search"
   ]
  },
  {
   "cell_type": "code",
   "execution_count": 126,
   "metadata": {},
   "outputs": [
    {
     "data": {
      "text/plain": [
       "'CCGAG'"
      ]
     },
     "execution_count": 126,
     "metadata": {},
     "output_type": "execute_result"
    }
   ],
   "source": [
    "def one_hot(seq):\n",
    "    code={'A':[1,0,0,0],\n",
    "         'C':[0,1,0,0],\n",
    "         'G':[0,0,1,0],\n",
    "         'T':[0,0,0,1]}\n",
    "    encode=[]\n",
    "    for x in seq:\n",
    "        encode.append(code[x])\n",
    "    return encode\n",
    "\n",
    "def multiplyList(List) : \n",
    "    result = 1\n",
    "    for x in List: \n",
    "         result = result * x  \n",
    "    return result \n",
    "\n",
    "def Profile_most_Probable_kmer(Text,k,profile):\n",
    "    best_pos=0\n",
    "    best_value=0\n",
    "    for i in range(len(Text)-k+1):\n",
    "        encode=one_hot(Text[i:i+k])\n",
    "        cur_matrix=np.multiply(encode,profile)\n",
    "        cur_value=multiplyList([max(x) for x in cur_matrix])\n",
    "        if cur_value>best_value:\n",
    "            best_value=cur_value\n",
    "            best_pos=i\n",
    "    return Text[best_pos:best_pos+k]\n",
    "\n",
    "Text='ACCTGTTTATTGCCTAAGTTCCGAACAAACCCAATATAGCCCGAGGGCCT'\n",
    "k=5\n",
    "profile=[[0.2,0.2,0.3,0.2,0.3],\n",
    "[0.4,0.3,0.1,0.5,0.1],\n",
    "[0.3,0.3,0.5,0.2,0.4],\n",
    "[0.1,0.2,0.1,0.1,0.2]]\n",
    "profile=np.array(profile).T\n",
    "Profile_most_Probable_kmer(Text,k,profile)"
   ]
  },
  {
   "cell_type": "code",
   "execution_count": 131,
   "metadata": {},
   "outputs": [
    {
     "data": {
      "text/plain": [
       "'CCCTTACCTACGTTG'"
      ]
     },
     "execution_count": 131,
     "metadata": {},
     "output_type": "execute_result"
    }
   ],
   "source": [
    "Text='TTACTTGTTCGTCGGAGCGTAGACCAGATTTATTGTGCTGAACTCCTAAGTCGTTAGGACGACCTAGGGGATGCCTCCGTGCCACGTTTACGTTTCATGGTTAGCGGCTTAGCGGTGCTGGTCTTGAGTATCATAATCCGTCTATCTACGTCCCCGAACATAACGTACACTATGTACTATGGTTATAATCAATGTAGGGTGAGAGCCGTGGCCCTCAAGGCCAGCTGTCCCTTACCTACGTTGCCATGAACGAACCTTAAAATATAATTGCGCTGCCCAGAGACCAGTAGGCCGCCACCCCTGGTACAACTAATTTCTATTTTATCCCCTCAGCGTCCGTTCATTATATTTTCGCAGGCATTTTCTGTGGTTAGGTAATTATACATCCAGTGTTCATGTCTTTGGTGAAGAGGGTAAATTAAGTACCGATCGCTGAAATTGTGGTGTACCTCGAGCCCAACCTCCAGAGTACTCAATTTCCAGCGGTCCATACGGACGCTCGGCACAGCTACTTGTGTCCCTCTGGTTGGTTTGGGCGTTTAGTGGCTTGTCTATTTCCCGACACAGTTTGGACCTTAGTTCTGTCCTGCTACCGTCTTAGGATGTAGTGTGCGGGCTCTCCATGGCTGTCTCTTTGTTATAATGTCATTCATCTGTCTCCGCATTGGTTTGCGCACTCGGACGCGGGAAAATTGCTAGAGGAGATATGAAGTTTGTTGAACTGACATTCCAGTCCTCTAATGGATCACAATAATCCCGTTCGACTCTCTTCTAGGCATTCACGCACTTGTAACCTGCCTCGTCTTTAACGCTCCTTACATTTTAATTGCGCAGGTCCAGAGTCGGCGGTACCGCTAATGCGAGAATCGGCGAACACAGCAATTGTTACCGCCGAAGCAAGTCAAACGAACGGGCTCGACAGCGACCCATCCCTAAGATGAAGGACCTCAAGCAATAATCCGAAGGGCGCTGCCATCGTAGAGATTGCCGCATATAGCAC'\n",
    "k=15\n",
    "profile='0.288 0.227 0.258 0.273 0.273 0.348 0.167 0.242 0.303 0.227 0.167 0.318 0.258 0.182 0.212 0.288 0.394 0.242 0.227 0.182 0.227 0.333 0.333 0.197 0.242 0.318 0.242 0.182 0.242 0.242 0.227 0.136 0.242 0.212 0.258 0.182 0.242 0.242 0.273 0.273 0.242 0.182 0.212 0.318 0.258 0.197 0.242 0.258 0.288 0.288 0.242 0.258 0.182 0.227 0.258 0.273 0.258 0.348 0.258 0.288'.split(' ')\n",
    "profile=np.array([float(x) for x in profile]).reshape(4,15)\n",
    "profile=np.array(profile).T\n",
    "Profile_most_Probable_kmer(Text,k,profile)"
   ]
  },
  {
   "cell_type": "code",
   "execution_count": 482,
   "metadata": {},
   "outputs": [
    {
     "data": {
      "text/plain": [
       "['CAG', 'CAG', 'CAA', 'CAA', 'CAA']"
      ]
     },
     "execution_count": 482,
     "metadata": {},
     "output_type": "execute_result"
    }
   ],
   "source": [
    "from collections import Counter\n",
    "import numpy as np\n",
    "\n",
    "def one_hot(seq):\n",
    "    code={'A':[1,0,0,0],\n",
    "         'C':[0,1,0,0],\n",
    "         'G':[0,0,1,0],\n",
    "         'T':[0,0,0,1]}\n",
    "    encode=[]\n",
    "    for x in seq:\n",
    "        encode.append(code[x])\n",
    "    return np.array(encode)\n",
    "\n",
    "def multiplyList(List) : \n",
    "    result = 1\n",
    "    for x in List: \n",
    "         result = result * x  \n",
    "    return result \n",
    "\n",
    "def motif_matrix(Dna):\n",
    "    tmp=one_hot(Dna[0])\n",
    "    for dna in Dna[1::]:\n",
    "        tt=one_hot(dna)\n",
    "        tmp=np.add(tmp,tt)\n",
    "    new_tmp=np.array([x/sum(x) for x in tmp])\n",
    "    return tmp,new_tmp\n",
    "\n",
    "def MotifEnumeration(DNA,k,d):\n",
    "    count=0\n",
    "    for dna in DNA:\n",
    "        exec(\"freqMap_%s=FrequentTableWithMismatches(dna,k,d)\"%str(count))\n",
    "        count+=1\n",
    "    Patterns=set(eval(\"freqMap_0\"))\n",
    "    for i in range(1,len(DNA)):\n",
    "        Patterns=Patterns.intersection(eval(\"freqMap_%s\"%str(i)))\n",
    "    return set(Patterns)\n",
    "\n",
    "def Profile_most_Probable_kmer(Text,k,profile):\n",
    "    best_pos=0\n",
    "    best_value=0\n",
    "    for i in range(len(Text)-k+1):\n",
    "        encode=one_hot(Text[i:i+k])\n",
    "        cur_matrix=np.multiply(encode,profile)\n",
    "        cur_value=multiplyList([max(x) for x in cur_matrix])\n",
    "        #print(Text[i:i+k],cur_value)\n",
    "        if cur_value>best_value:\n",
    "            best_value=cur_value\n",
    "            best_pos=i\n",
    "    return Text[best_pos:best_pos+k]\n",
    "\n",
    "def Score(Motifs):\n",
    "    matrix,_=motif_matrix(Motifs)\n",
    "    score=0\n",
    "    for x in matrix:\n",
    "        score+=(sum(x)-max(x))\n",
    "    return score\n",
    "\n",
    "def GreedyMotifSearch(Dna, k, t):\n",
    "    BestMotifs=[x[0:k] for x in Dna]\n",
    "    BestMotifs_Matrix=motif_matrix(BestMotifs)\n",
    "    for i in range(len(Dna[0])-k+1):\n",
    "        kmer=Dna[0][i:i+k]\n",
    "        Motifs=[]\n",
    "        Motifs.append(kmer)\n",
    "        for i in range(1,len(Dna)):\n",
    "            _,Profile=motif_matrix(Motifs)\n",
    "            Motifs.append(Profile_most_Probable_kmer(Dna[i],k,Profile))\n",
    "        if Score(Motifs)<Score(BestMotifs):\n",
    "            BestMotifs=Motifs\n",
    "        #print(kmer,Motifs)\n",
    "    return BestMotifs\n",
    "\n",
    "Dna='GGCGTTCAGGCA AAGAATCAGTCA CAAGGAGTTCGC CACGTCAATCAC CAATAATATTCG'.split(' ')\n",
    "k=3\n",
    "t=5\n",
    "GreedyMotifSearch(Dna, k, t)"
   ]
  },
  {
   "cell_type": "code",
   "execution_count": 168,
   "metadata": {},
   "outputs": [
    {
     "data": {
      "text/plain": [
       "'GGTATTTAGACG GGGTTGGAGAGA AGAGCTAGTGCT GGCTGCCGCTTA AGAGATGGGCCT AGAGTTCGTTCT AGAGATTGTACT GAAACCGCAAGG AGAGCTTGCCCT AGAGTTTGCGCT AGAGGTGGAGCT AGAGGTTGACCT AGAGCTGGCCCT AGAGGTGGGCCT AGAGTTGGCGCT AGAGCTCGCTCT AGAGTTTGTACT AGAGATAGGCCT AGAGATCGCACT AGAGATAGGTCT AGAGTTCGATCT AGAGTTCGCCCT AGAGATCGTACT AGAGATGGTTCT AGAGTTAGCCCT'"
      ]
     },
     "execution_count": 168,
     "metadata": {},
     "output_type": "execute_result"
    }
   ],
   "source": [
    "Dna='ATTTGCGCTTGCAGAGCTCGAACTTTGGGGTGCCATGGTGGAGGAAGTCGATAAAGCAGAGTGCGGTTTAGTCCTAGAATATACCCATAGTTTGAACTTCCGTGATCTTTACTCTCTGGTATTTAGACGGCATGGCCATAAAAGTCAACGCGAGCC \\\n",
    "GGGTTGGAGAGAAATTCAATTAATAGAGCTTGCCCTGCCTTCCCCGTCATTCGTTAGAATCGTCGAGGAAAGCATCCTACAGCATCTGCTCGTTGGGGGTCCATTCTACAAACATTCACTAGCAACTATACGTGGCGAACGCATCGGTTTGAACCC \\\n",
    "AGAGCTAGTGCTCCTGGGGCGCTAGTGGCTGATTGCCTCTAGACTGTGGATAATACTTACTATTCAGGTAGTTCCCTCTAGACCACACTCGTCCGGTCTCCAGCTGAAGACTGTTAGACGAGTACGCGAACCTTGGGGATCTTTGGCGCTTCGTTG \\\n",
    "GGCTGCCGCTTAAGATGATTCTCTGACGACGGACGATCATAGTTGGTAGAACATGCCATGGTAACGGATAGATGTCGCTTTTCTGGTCGACAGTGCCTCGTAATTTGAAGAGTTAGCACTCCATAGCCAAGCCCTGAACGCTTAACCTATAAACTA \\\n",
    "AGAGATGGGCCTGGGGCGGCTAAGGAGTCTCATTGTCAATTGTCAGTCAGGAAAAGTACACAACTCTATTAGCCGCGTGGCTGCGTTTCAACTGTCTACTTCCGAACTCATCTGAAGCCGGCTCGGCCTCGTTAGCGATTACGACATGACTCTGTG \\\n",
    "TATGAGATCCGTAGAGTTCGTTCTGAGGTCATCCCGGAGTCATTGCCACACTAATGACTTCGGAGAAGTAGAATATATAATCTTCCCTGTACTTGCGTGTCCCGGTCGAGCGATTGCCTTAAGAACGTGTTTCAAGTAAGTAGGTCTTGAGTGTAT \\\n",
    "TGAGCGGTTCCACACTTTACACTGTGATGGGCTTGCAGAGATTGTACTTGTGTCCGTCAAATCGCTTGTGCTATAGTTTGAACGCTACGCACTCAGTTTGCTATTGGAAATTGCCCAGTCAAGATAGATACGGTACGCTCCATTCTGGACCAGACA \\\n",
    "GAAACCGCAAGGCTTTTTTTACATTCCCTATGGCAGACAGGCTGTGCTCGGGCTTGTTTCCGGACGTTAATACCAACCCCGGCCACATGGCGACTACCACTACCAAGGAGAGGTGGATCTGTACCAAGATTGGAACGGGCCGCCATACAGCCTAAC \\\n",
    "TAACCAGTGTGGAGAGCTTGCCCTTCGAATGACGAGTGGGGCGAGTGGGCAGACGGTAGGTGGATTTTACTTCTGTACGTACAGCCAGCATGATGATTGCATAGCAAGAATGTGAAAGTCTTCGCCCATTAATGACAGCACGTGCGCGCTCCTAGA \\\n",
    "AGAGTTTGCGCTAGTAACTACTATGGCGTAGGGTTGAGGAGCAAAGCTGTGAGTTGTGGAAGTCACAACACGAGCTGCGGAAACCAGGTTAGCCTGGTTCTGGTCTTCTATAACAAGACAACGAAGGCTCCCAACGGAGTGCCCGCTTGCGAGCGA \\\n",
    "GCTTTCTCCCCTCACCAAGTAGGTATAATACGTAATTATAGATCCTGTCACACGTTGATTAGAGGTGGAGCTCCCCACACGATGACCCCACGGGGCAATGGCGCGATTGGAACGTAACTTATATGTACTACTCTGAGCACAGTAATTGCCTCGAAG \\\n",
    "AGAGGTTGACCTTACCTCTAGACAATTCTTAGCCCACATAGAGTAAAAACCATACAATGAATGACCTAAGGTCCTTCAGAAGGGTGCCAAAAGGGATGATAGAAACCTACAGTGTTGGCGCCAGTCTCACTGAGTGCTTACGGCCCAAAAGTACGC \\\n",
    "TTGCGCGAAGATCTTTGTACAGGCTAGAGGCGCGACATTCCTCTGGCTATCCAAACAATTTGTAGCGGCCTGCCTAAGAAATTAATGGGTCCATCCGCTGATGCGGACACCTCGATGAGCAGAGCTGGCCCTACACTCAGCGTGTCACAGTAGAAA \\\n",
    "TACGGGAGCGCATCGCTAGCTCATTCCGCACCGGCCGGCCTAGTCTTCAGAAATGCATTAGATTACTTCACCAGTTGCCGTTTTACGTGATATACTCTAGCTTACTTATTGGTAACGAAAGCTTCAGTTACGACACACTGATGGAGAGGTGGGCCT \\\n",
    "AGAGTTGGCGCTCATGGTCTCGGAACGAGGACTCACATGACGAGCTTGTGGGGCAGAGTTTTGATATTCCTTAGCTATCCGATTATGTGGCCCTATCACGATACCCTGTGTGCCCTCTGTGTGGGTGAGGTATCCAGTAAAAGGCAGTTGAGTGCT \\\n",
    "GGCGGAGGCCGGCCCAGTAGGTTGACTAGAATATTGTACCTGGGAGAGCCTGCGTTAGCGCGTAAGCGAATTCGGTTTTGACTAGGTGTGCGAATTGGGCTAGAAATGGACTAGGTATCGCGAAGGTTGCCATACCTATATAGAAGAGCTCGCTCT \\\n",
    "AGAGTTTGTACTTTGACAGAGAGATGGTTCTGTCCGATCGCTATACGTCGGGTTGCCTTCTCAACCGCTCCCCGCCTCTGTCGGGCATCCGTCTAAGGTATACATATATTTGTGCACCTGGGCCGAAGAAATACCAAGGCACATTCTAGCAGCACG \\\n",
    "GGACTACCAAACGCACGTTGCCGCCGTGATTCCGGTAGTGACCTAAGTAGAGATAGGCCTTGTCTGCCGACGGATTGCCTGCTGTAGTATCGAGTGAAGACCTTTTGTTGAGAATGACCCCCCGCTGGGCGAAATGCGCATCAACGTTTCTCTAGC \\\n",
    "CCTGGACTAGCGCCTCGCTTTAGGTGGCATTCCTCGAGCGCCGGCGCCAACGAAACCCTAGTTCATTGAGGATTAGATTAGCACGCTTCGTTGTAAAGGAACATGTAGATAGGGCCGTTAAGAGATCGCACTTAACCCCGAGAGGCTTGTGGTTTT \\\n",
    "CTGCTAATAAACAGGTACAATCTTAATGTTTTTAGGGGATTTTCCCGGCCGCCATATTTCGGACTCCAACAGCGAATCTCGGCGACAGCAAATGAAACTACACATAGCGGTGCCGAGTAGTCCCCTGTGCACTGCCACACGCTCAGAGATAGGTCT \\\n",
    "AGCCGTTTCGTTCGTAACAACAAAAGAGTTCGATCTATTCAACGAGCAACTTATTGACACGAGAGAGGGTCCTCGAGGTCAGGCCAATTGCTGAGTTTGACTTCTGCTTTATGCGTTCCAGGCATGCGCATTAAAGGGGAGAGAGATGCATTCTTA \\\n",
    "ACTTTTCTTTACTCTATGAAGAAATATTCTTTCCATAGAGTTCGCCCTGCAGTCTGTCAAGCTACTCAGCATCCGGGTGGGCCTCTGTTGCTTCGGGTCCCTACTTGGACACCAGGACCGGAGTAAGTATGTTGTACGAGTCGCGCCTTAGGAGTT \\\n",
    "GGGCGACATTGACTTTGGCGTCAATGTCTCGAAGTTGTCGCACGTGCACCCTCGGGGAGTCTCGCTACATGCGAGGCCCAATCCGGCACTGATGCGAACTGCTTCGCAAGGGAAAGGCCCTAATTCGATATTCTCTATACTATGAGAGATCGTACT \\\n",
    "GAAAATCATTAGCATAAATGGCGTCGAGGTTAGTAGAGAGATGGTTCTCTAGGCCGGAAGTTAACAGTGGTTACCGTCATTAACATCTGGGTCTGTCACGGACATGTGCAACACATGCTGTGGTCCAGTAGACGCTTTTTAGAAGGACACCGCGGC \\\n",
    "CCTGCGAATGAATCCGCGTCCTTAAGAGTTAGCCCTACGTGTCCCTCGGGACGTCTATACGAGGGCCGGGGGTTACCTCTACTGACAATGCGACAGTAAATACACCAATTTGCCCGCCGGCAACGGATAACAAACAGATAAGTGGTGTCCGAAGTA'.split(' ')\n",
    "k=12\n",
    "t=25\n",
    "' '.join(GreedyMotifSearch(Dna, k, t))"
   ]
  },
  {
   "cell_type": "markdown",
   "metadata": {},
   "source": [
    "## 2.6 Motif Finding Meets Oliver Cromwell"
   ]
  },
  {
   "cell_type": "code",
   "execution_count": 6,
   "metadata": {},
   "outputs": [
    {
     "data": {
      "text/plain": [
       "['TTC', 'ATC', 'TTC', 'ATC', 'TTC']"
      ]
     },
     "execution_count": 6,
     "metadata": {},
     "output_type": "execute_result"
    }
   ],
   "source": [
    "from collections import Counter\n",
    "\n",
    "def one_hot(seq):\n",
    "    code={'A':[1,0,0,0],\n",
    "         'C':[0,1,0,0],\n",
    "         'G':[0,0,1,0],\n",
    "         'T':[0,0,0,1]}\n",
    "    encode=[]\n",
    "    for x in seq:\n",
    "        encode.append(code[x])\n",
    "    return np.array(encode)\n",
    "\n",
    "def motif_matrix(Dna):\n",
    "    tmp=one_hot(Dna[0])\n",
    "    for dna in Dna[1::]:\n",
    "        tt=one_hot(dna)\n",
    "        tmp=np.add(tmp,tt)\n",
    "    tmp+=1 # pseudocounts\n",
    "    new_tmp=np.array([x/sum(x) for x in tmp])\n",
    "    return tmp,new_tmp\n",
    "\n",
    "def Profile_most_Probable_kmer(Text,k,profile):\n",
    "    best_pos=0\n",
    "    best_value=0\n",
    "    for i in range(len(Text)-k+1):\n",
    "        encode=one_hot(Text[i:i+k])\n",
    "        cur_matrix=np.multiply(encode,profile)\n",
    "        cur_value=multiplyList([max(x) for x in cur_matrix])\n",
    "        if cur_value>best_value:\n",
    "            best_value=cur_value\n",
    "            best_pos=i\n",
    "    return Text[best_pos:best_pos+k]\n",
    "\n",
    "def Score(Motifs):\n",
    "    matrix,_=motif_matrix(Motifs)\n",
    "    score=0\n",
    "    for x in matrix:\n",
    "        score+=(sum(x)-max(x))\n",
    "    return score\n",
    "\n",
    "def GreedyMotifSearch(Dna, k, t):\n",
    "    BestMotifs=[x[0:k] for x in Dna]\n",
    "    BestMotifs_Matrix=motif_matrix(BestMotifs)\n",
    "    for i in range(len(Dna[0])-k+1):\n",
    "        kmer=Dna[0][i:i+k]\n",
    "        Motifs=[]\n",
    "        Motifs.append(kmer)\n",
    "        for i in range(1,len(Dna)):\n",
    "            _,Profile=motif_matrix(Motifs)\n",
    "            Motifs.append(Profile_most_Probable_kmer(Dna[i],k,Profile))\n",
    "        if Score(Motifs)<Score(BestMotifs):\n",
    "            BestMotifs=Motifs\n",
    "    return BestMotifs\n",
    "\n",
    "Dna='GGCGTTCAGGCA AAGAATCAGTCA CAAGGAGTTCGC CACGTCAATCAC CAATAATATTCG'.split(' ')\n",
    "k=3\n",
    "t=5\n",
    "GreedyMotifSearch(Dna, k, t)"
   ]
  },
  {
   "cell_type": "code",
   "execution_count": null,
   "metadata": {},
   "outputs": [],
   "source": [
    "print(Score())"
   ]
  },
  {
   "cell_type": "code",
   "execution_count": 175,
   "metadata": {},
   "outputs": [
    {
     "data": {
      "text/plain": [
       "'GGCTTCCATACC CACTTCAATACG GCCTTCGATACA ACCTTCAATACA AACTTCCATACT GCCTTCCATACT AACTTCGATACC ACCTTCGATACC TGCTTCTATACC ATCTTCAATACA GACTTCCATACC AACTTCAATACG TTCTTCGATACG GCCTTCTATACT ATCTTCCATACC CACTTCAATACA CGCTTCAATACA GGCTTCTATACT ATCTTCGATACC ATCTTCAATACC AACTTCCATACC GTCTTCCATACG ACCTTCAATACA CACTTCGATACA GCCTTCGATACT'"
      ]
     },
     "execution_count": 175,
     "metadata": {},
     "output_type": "execute_result"
    }
   ],
   "source": [
    "Dna='ATCAGAGCACCACAGTGATGCGAGATACTGCATTTGATTTGAGGCGGTGACATGTACTTCTCAATCGGGGACATCAGCCTGGACGGAAAGCGATGCTGATTCTAAATTTACCACGCAGATTACCTCGTGCGTGGCTTCCATACCTATCTTTGTTAG \\\n",
    "TATGCGTCCTCATTGCTGGGAGTATACCGTCCGACCACATGGTTTGTAACCCGGTGTAAGCTACCGGCTTTTGTTTAAGTTGTATATGGACCATCACACTTCAATACGGTAAAAGTCTGCGGGTATTCAGATGACTTTTGTGGCTTGCTTTATCCT \\\n",
    "GCCTTCGATACACGGCGAATGTAAAATCGCTTCAGGATGCGCCAGAGAGTTTGACAAAGAGATATGGCCTACTTTACACATACTATTTGCTGACAGAAGTTTAGGTCCCATCTGGTGTGTTATGATTACTAGACTCTCCATCGTTCTAATGCTAAA \\\n",
    "AGAAAGGACGACTATGCTACACCCGGGGGGCCAATACCGGAGTCTATATCCTTGTTCCAGGCTTCCTTGAAGGACTCGAAGGCTAGCGGTGGCTTTCGGAGATTATCGCCCATAACGCGCACCTTCAATACAGTGATATGCGGGTGCGCGAGCCCA \\\n",
    "CCGTTAAGAACGCGCCCGTATATGCAGGCCACGAGTGGTCATGGCTGTAACTTCCATACTATTGTCCAGAGGAGCTTCCAGATTACCCTAGCAGTGCGACCTAAAGTACGATAGAATGGAATCGAACAGCGCTATACCCTCCCAGTTTAGTCCGGG \\\n",
    "GATACTCTGCACGCCTTCCATACTCTTTACCGCTCAGGATCGTTCGGACAGGTCTGGTTCCCGCAGCATCAGCCGGAATTTTATTGATTCTCCGATCGTTAAACGCTGCTGGGTTCGTAACGTGTCAGGGTTACTTCCTGTAGACGCGGTTGTCAG \\\n",
    "AAGGCAACACGATGGCCGCGGTAAAGCATGGACAGCAAGCACAGACATACGCAACATGACGCGGCGCTCGTGTTGACATAATTGGATTCCACCCACAAATGCGGCATCTATTACTCACTCGGATTAGTTCCCAATGCACTTTAGAACTTCGATACC \\\n",
    "CGTTTGATGCGGAACCAGCTTCAGTTAACCTTACCGTCGATTGCCATGCGAGGTAACGCTGTCTACTCAGTTCGGCGTTACCGGGGTCGTCTCTCGGGCAGTCAGATTACCTTCGATACCTCATGAGATAATTTCGTGTGTCGAGGCGCACAATTT \\\n",
    "TCTCGCGAATTCTTCAGAGAACAATTTACCCAATAGAGCGCGGGAGCCTACGCACTAGAATCTGTTTTAAAACGTATTCAACACGATATCATGCAATGCAACCAGTCGGTATGGGTTAGCTGCTTCTATACCAACGGCCATGGCACTAGTAGGGGT \\\n",
    "GATGTTATTCCAAGTCCACGTTGAGTGTTAACGAAACGCAAAGGATGCGACTGTAGCGAACGCGGACGCACTTTTAGTATCTGAGGTAACATTGATGGATGCGGGCCCAAATTTGAGAACATCTTCAATACAAAACATGCGATACTGTGCTGGAAC \\\n",
    "CTCATGGTTCATGTCGCACTGAAACACATTCTGGAGTATGTAGGCCTTCTTAGTCCCTATCCCCTATGCCTACATTGATTACAGAATAGCAACCTCGCGGTGACAGGATTCGGAAGAAGTCCTGCACCGCAAGCTCCTGTTTCGGACTTCCATACC \\\n",
    "CAACGTTCGCTGACGGTGTGGGAAATGCCTAGCGAGTGAATGTGCCATGCTCACGGGATGGGAACGAGAGTATCCGAGTATCTTCTAGCGGACTGGGCATCAAGACACCTTGACGCCGCTTGGGGAAGACCCGCTACAGTAATCAACTTCAATACG \\\n",
    "TTGACCTAGAACGTACTCTGGTAGTTCTTCGATACGTCCACATAACTCGAGTATGACTATTGAGACAGTTGGAAGACACCTCCGATGCGCTAACGGACCCCTACTTACGGCCGTCTCCTTGACTACCCAATAATTTCAGACACCGCTCCCTCTCGC \\\n",
    "ATTCTAGTGGCTTCGACCGGAGAGTTATAACGCCAATTTACCCAGTTCGCCTTCTATACTCGAAGGCCATACAGTAACACCCTCACGGAAGATGGGACGATATGGGTATAGAACGAGGAAAATCTATATTCGACTAACCTCAAACAACTAGGGGTC \\\n",
    "TGAGCAATGACGATCTTCCATACCCAAAGTGGACACTTTCTCGCCTCTGGAGGTCAGCTCTGCTCAACAAGATCCCAGGAGTACGCACAGTTTACGAGACGACTTTTAGGCCGTGTGCACTAGCACACGAGTGGCAGCGAATAGTAAGGGGCGGCC \\\n",
    "CACTTCAATACAAAAGCACTTAGAGGACGCCTGGTTCAAGATGACGTGGGGTTCGTACAGGATTAGTGAAAATGGTATGTCTCAGTAGTTCCTGTTGGCTCTAGAATTCTTGTTTCCCCTGTGCGCTGAACCGTCGAGACAGTCTTCGTCATCCTC \\\n",
    "ACGTACGGCCAACAACTTCGGCACAGCCCTCATAAATGGTGCCCACAGGGACAACGGGTGCGCTTCAATACAAGGTTAACACGTGCTGTTAGCCGAGCCGGCCTGCAGCAGTAGTCCCTCGCGAAGCACGGCTTTAGGCATCCTAGCCTATTCGCC \\\n",
    "GCCGGGCATTTCAGGCAAGATGTACACCTAGCTCTGGGCTTCTATACTCCTTCAAACCAAACGGATGGCTGTGGGCTATACGACCGACGTAATTGTTCTCCGTTAAACAGTCGGTCCTACGGATTCTCGATTCAGCTTTTGGTGCGTCATCGGACT \\\n",
    "CTGCTCATACGGCCCTCTCGGGTGCCTATATCTCCAATACCCAGGAACAATGACAATCTTGACCGCCCGGTACCTCCGAATGAATGATTTATCATAACGTAGCTTTGGCAGGCGTCCAGTAGATGGGTAGCCATCTTCGATACCGCTTCACATATT \\\n",
    "ATACACACTCATGTAGGTCGACGCTAGAAGATATGGTCAAGGTGATATCAAGTTGATGGGTAAAGTGCCGCGGCGCTTTTATGGGGAAAGGAGCGTATCTTCAATACCCTAAAAATTCTTAAATTTGTTACTGGTGATGTAAACGTGTCTATCGTA \\\n",
    "CACGATTTCCATCATAAACAGGGCTTATCGCTTTACACGCGCTTCCCGGGCGGTATTGTGCTAATGAATGCGTATCTAGGCCAGGCAGGTAACAGGTCCATAGGCCGACTAGTCTCAGGTTACTGAACCCCTAACTTCCATACCTTGTAGGCCCGC \\\n",
    "AAGATGCCGCGACAGGAGAGACTGCACGCTGGAAAATTGAGATTACTTGAGATCGTTCTCGCCACATGGATAGTCTTCCATACGGCATTCCGATGTACCTGAGATAAGTTTTCTGCCATTTTTGAGATTGGGGACAATGCTACTCTGGGGGGCAGC \\\n",
    "ACAGCCATGGTTTTACGACCGTTTACGATTGCGTTAACGTTCGACGCATGGTCTTCCACGAAGTTTCGTGATTACGTACGCAGCGTATAGCCAGGGGTGAGCGGGTCTCCACTGTGTACTACCTTCAATACAGATCTCAAATCCGTGTTATTAACC \\\n",
    "CGCATTTACCTAAACGCAGCTCTTCTATTTGGTCCTACGCATAGGTGGCCTCTACCACAAGGCTTTGGTAAGAATATGTTGATACGTTGCCAACGCTATATCACGGTTAGACGCGCCGGACACTTCGATACATAGGCCAGTCCAAGTGATAATCGC \\\n",
    "GTGCCTATCAGTGGATGGCCGTAGTTATTGTACGTACGACTTAAATTATACATTTTCCAAAACGGGACAGACTTAACCAGGAAGCCGTGCAGTCCGCAGTTGCATACGGCCTTCGATACTTAAGCAAATCCTGGAGTCATCGTTAGACTTTGACTA'.split(' ')\n",
    "k=12\n",
    "t=25\n",
    "' '.join(GreedyMotifSearch(Dna, k, t))"
   ]
  },
  {
   "cell_type": "markdown",
   "metadata": {},
   "source": [
    "##  2.7 Randomized Motif Search"
   ]
  },
  {
   "cell_type": "code",
   "execution_count": 169,
   "metadata": {
    "scrolled": true
   },
   "outputs": [],
   "source": [
    "import random\n",
    "import numpy as np\n",
    "\n",
    "def one_hot(seq):\n",
    "    code={'A':[1,0,0,0],\n",
    "         'C':[0,1,0,0],\n",
    "         'G':[0,0,1,0],\n",
    "         'T':[0,0,0,1]}\n",
    "    encode=[]\n",
    "    for x in seq:\n",
    "        encode.append(code[x])\n",
    "    return np.array(encode)\n",
    "\n",
    "def motif_matrix(Dna):\n",
    "    tmp=one_hot(Dna[0])\n",
    "    for dna in Dna[1::]:\n",
    "        tt=one_hot(dna)\n",
    "        tmp=np.add(tmp,tt)\n",
    "    tmp+=1 # pseudocounts\n",
    "    new_tmp=np.array([x/sum(x) for x in tmp])\n",
    "    return tmp,new_tmp\n",
    "\n",
    "def Score(Motifs):\n",
    "    matrix,_=motif_matrix(Motifs)\n",
    "    score=0\n",
    "    for x in matrix:\n",
    "        score+=(sum(x)-max(x))\n",
    "    return score\n",
    "\n",
    "def multiplyList(List) : \n",
    "    result = 1\n",
    "    for x in List: \n",
    "         result = result * x  \n",
    "    return result \n",
    "\n",
    "def Profile_most_Probable_kmer(Text,k,profile):\n",
    "    best_pos=0\n",
    "    best_value=0\n",
    "    for i in range(len(Text)-k+1):\n",
    "        encode=one_hot(Text[i:i+k])\n",
    "        cur_matrix=np.multiply(encode,profile)\n",
    "        cur_value=multiplyList([max(x) for x in cur_matrix])\n",
    "        if cur_value>best_value:\n",
    "            best_value=cur_value\n",
    "            best_pos=i\n",
    "    return Text[best_pos:best_pos+k]\n",
    "\n",
    "def RandomizedMotifSearch(Dna, k, t):\n",
    "    Motifs=[]\n",
    "    for dna in Dna:\n",
    "        ran=random.randint(0,len(dna)-k) # include the second value\n",
    "        #ran=random.randint(0,t) # include the second value\n",
    "        Motifs.append(dna[ran:ran+k])\n",
    "    BestMotifs=Motifs\n",
    "    #print(Motifs)\n",
    "    while True:\n",
    "        _,Profile=motif_matrix(Motifs)\n",
    "        Motifs=[]\n",
    "        for dna in Dna:\n",
    "            Motifs.append(Profile_most_Probable_kmer(dna,k,Profile))\n",
    "        if Score(Motifs)<Score(BestMotifs):\n",
    "            BestMotifs=Motifs\n",
    "            #print('Current Score: ',Score(Motifs))\n",
    "        else:\n",
    "            return BestMotifs\n",
    "    \n",
    "\n",
    "def run(Dna,k,t,n=1000):\n",
    "    BestMotifs=RandomizedMotifSearch(Dna, k, t)\n",
    "    for i in range(1,n):\n",
    "        print(i,n)\n",
    "        New_BestMotifs=RandomizedMotifSearch(Dna, k, t)\n",
    "        if Score(New_BestMotifs)<Score(BestMotifs):\n",
    "            BestMotifs=New_BestMotifs\n",
    "            print('\\n'.join(BestMotifs))\n",
    "        else:\n",
    "            pass\n",
    "    return BestMotifs\n",
    "        \n",
    "            \n",
    "Dna='CGCCCCTCTCGGGGGTGTTCAGTAAACGGCCA \\\n",
    "GGGCGAGGTATGTGTAAGTGCCAAGGTGCCAG \\\n",
    "TAGTACCGAGACCGAAAGAAGTATACAGGCGT \\\n",
    "TAGATCAAGTTTCAGGTGCACGTCGGTGAACC \\\n",
    "AATCCACCAGCTCCACGTGCAATGTTGGCCTA'.split(' ')\n",
    "k=8\n",
    "t=5\n",
    "#run(Dna,k,t,n=1000)\n",
    "#' '.join(GreedyMotifSearch(Dna, k, t))\n"
   ]
  },
  {
   "cell_type": "code",
   "execution_count": 168,
   "metadata": {
    "scrolled": true
   },
   "outputs": [],
   "source": [
    "Dna='CAGACGCTTGGGTGACACCTAAGTGAAACCGTCACGAGTTTACTAACGGCCTAAGCATGAATCTATCTTACTAAATTCAGACAAGTAGATGGGCACAGAAATACAAAGTTGCTACATGGCCCGCCTACAACCGGTTTTCAAACCGTATACTGCCGGAAACCGCAGACGCTTGGGTGA \\\n",
    "CACCTAAGTGAAACCGTCACGAGTTTACTAACGGCCTAAGCATCGTCGCACCGAGCATGAATCTATCTTACTAAATTCAGACAAGTAGATGGGCACAGAAATACAAAGTTGCTACATGGCCCGCCTACAACCGGTTTTCAAACCGTATACTGCCGGAAACCGCAGACGCTTGGGTGA \\\n",
    "GGTTATATCGACCTTCCAAACTCCTGACCCCTGTCCAGGGCCGTCCACTCCCGGCGTGGTTACGTCTAGTCGGAAAACGTGGCGTTTGTCCTTACGTGAAGGGGAATACGCGTAGCCAGTGTCGGGCCACCCCACAACCACTCGGTCCCCCGGAGTCCCGTTTTATGTAGTCACGTT \\\n",
    "ATAAAAGGGTACCACGGAGCTACTTACGGGCCATTGCACGTTGGCTAGATAGATGAACTAATTTATACATAATAGTGCCGGGGCCACCGAGCTGCTTATTGACATTTCTTGGTTTTGAGGCCCGTGCCCCTCGTCTTAGTCTTTTCTCTAGGGCGCCAGTATTGGCTCCGAAAGACA \\\n",
    "GGCCTAGAAAGCTGTGCTCAAGCGTTCACGTCGAACCACAGATATCCACGAACTCGTCCACGAGGGCAAGGCTCGGGCGTTCGAGCAAAGACTAGCTAACTCCCTATTGTAATAGTGTCAAGCACCTGAGCTTTATGATTACGATCGGGAGAGAATATTTGGGCGTGTGTCTGATAG \\\n",
    "CCTCAGCGTGCGGTCGCGCAGTTGAGGTACCCGGTAACAATAAGTCCCTTCATTTACTTGGCCGTGGTCGTATCCCCAAATGCCCTGCCGGTAAAGCTATAAGGGTTTCGATTCTTACCACGCTCGGAGGCCACCGAGCATTATCCGGTTATCCGAAAGAGCGTCATGGATCATTAT \\\n",
    "GTGTTCGACACACCTAAAAACTAGTATTAGCTGGCCATGTGACTCGTTCATTAGAAGGGCAGAAGTTGTATCTCTTGCTTGCTTAATCGCGTCGAGGTTTTGCTACGAAATTCGGGTGTCCGAGCATCAAGAAATCAAATCGTAGGTCTTATCCAACTGTTTGCTAATATGAATTAA \\\n",
    "TTCCGGCGGGCGATAATTGACCAGCCGGAGCGGGTAGTCAGTATCCGACGCATGACGACGGAGACATGTGCCGATACATAGAACGCGTCGGTAAACCGAGCAAGCACGTTCAAGGCCCGATAAAGAGTTGTGGCCGCGCAATTTATATAACTGCGGTAGCTTATCTGGACACTAGAA \\\n",
    "ACGCCGCAACCAGTGTGCAGCCGTGTCCGTACCGAGTCGGGCCTAGGAGCAATTCTAAGTCAGATTTCTTCATGAACATAAATTCTACGTTGTCGAGTTGCCCTTTGCAACCAAATTTTCAAAGGGCGAAATAAAGTTTGCAAGGACCAGGTGAGTAGCTCCCACCCACGTGACGTG \\\n",
    "TATGACCTCGGGCGTGCGAGCAAGGCGGGGCAGAAAAGGAGCGGGCTCCACGTATTTAAAGGGTACACTCTCAGGAGTACGTACCCCCATCACGGACACGGGTGACCCGACTCGAGAATCATGTACCTATTGGTTGTTTTAGAACTATGCGCCGCGCATTCTCTTGTTGTGTACAAA \\\n",
    "CGCACTGGTTCTGCTAAATACTCAATGCCTTTCACCAGGCCTTTAGGTGCTAGGCAACATTGCACGACACGCGGGTCGAACTATAAAGAAAGGGACCGGGGAAGAGAGTCTTCCCGTTGTTACAGTGCGGTGCTCATCGTCGGGCCAAGAAGCACCCGCTAAGCTGCGGCCGGTGAG \\\n",
    "GCCGATGTTAATACCGTGAAATGTCGGTTTTCAATCACTTAGCAACTTACCATGTTTCCATCTGCGACCTCGGCGATCAGCTACGAGTGTCGTATGCACAACAGCACAGAATGTGAGGTTTGTCGTAGCACCGAGCACCCATTACTTTCTCCGTTCTGGACGCTCACGTTACCTCAC \\\n",
    "TGGGTTCTGAATGGCTCACTCTCGAGCAATGCTCGTATTGGCTACCGCTTACCGTTACACCTCTAGCGTGCGTGCGGCTCTGGTGACAGTTCTAATGTGCTCCGGGAAACCAAACGCCTTCAGTGTCGATCGGGTTCCCGAGCACCGCGTCCATGCTCCTGTCGCCTCCGCCTCAGT \\\n",
    "GCTACGTGTTAGCTACCCCTGACGTGTACGTGCATCTTTCGGCTAACCGAGCACGGGGGCGCGTGCTGATCCACTAGTGCGGTCTCTCAGTACGACAACTGTCCGTAGGCAGTACACACCATTGCATTCACGAGGACTGATTCGTCAGGCAAGGAACTCAGATTTGCGTCGCATGTG \\\n",
    "GTGCTCCCAGCTGCTGGTACGCATAAAAACGGGCTTTTCGGGCCACCGCAGAGGGCTTTTGACGCTGTCTTTAAAATTGTCTGACTGACGACTTCCATGTATACCGCCCATTTCACGGCGCGAGGCGTGCGGATCGTTGACTACCGCGCCGAACCCCCGATCGACCGCCTGAAAATT \\\n",
    "TGAACCTAGATGGTCAAACAACTAGCCGCAGGAGGCAAGCTAGTATCATAGAACGAACTTGGGGCTGTCGGCAGATCTGAATACTCTCACTCGTCTGCGCGGTCTCAATCAGGATGTCTACAAAGGAATGGCACCATCAGCTCGGGTCGGGCCACAAGGCAGAGTTCAGCCTCCGCA \\\n",
    "GTAGGACAGTCACAGCGCGACGCGAGCTACAACCAACAGCGGGCCACCGAGGGGGTCAAGAATGGTGCTGCAATCCAACCAACGAACAAGGACTTAACCGCCGGCGTTCTGCTTGTGCGGGGGCATCTAATGGGGAGCCGACATAGCAAGCTTCATCAACTCCCAAGCACCGGCTCT \\\n",
    "CTAGCACGTCCTCGAGAACAATACCTAACTTGCCGTCTGTTCTACCCCCATATCACGCGGAGGAAGCCCGGCAGAAAGATGACGTTACGCCACCGAGCACGGAAGCGAGCACCATACAACCGATATAGGAGTGTCACGCCGAGCGTCTACTTGACGGTACAGCAGCTTATACCAAAA \\\n",
    "AAGTTGCAATACAAACGAGCAGAGGAATCGCCGGTCTTATTTGATTAGCTCGGGCCACCGATGGGGAACTACAACGAGGCGATGCGGACAGAACGAGTACCGGGGTACTTTTGACCTAGTAGCCTCCTGTGAATGTGTCGATTCCACAGATGTGCCGCGTGAAAGATGTGGGGAGAC \\\n",
    "GATTTTAATGCCAAGATGGTAAGTCTGCCAAGACTCGACAATGGGTAAGTGTTGAATAATTCGTGATAGGCATTCCTCCGCACGCAGCCGCAATGTCTAGCCCGCGGATCACCCCACCGAGCAGCACCGTATTGACATCCGCGCCCAGTCTCGTAAAAAGGTCTGCAGGCGACCTGC'.split(' ')\n",
    "k=15\n",
    "t=20\n",
    "\n",
    "\n",
    "#'\\n'.join(run(Dna,k,t,n=1000))\n",
    "#' '.join(GreedyMotifSearch(Dna, k, t))"
   ]
  },
  {
   "cell_type": "markdown",
   "metadata": {},
   "source": [
    "GCCGGAAACCGCAGA TCGTCGCACCGAGCA TCGGGCCACCCCACA CGGGGCCACCGAGCT TCGGGCGTTCGAGCA GGAGGCCACCGAGCA TCGGGTGTCCGAGCA TCGGTAAACCGAGCA TCGGGCCTAGGAGCA TCGGGCGTGCGAGCA TCGGGCCAAGAAGCA TCGTAGCACCGAGCA TCGGGTTCCCGAGCA TCGGCTAACCGAGCA TCGGGCCACCGCAGA TCGGGCCACAAGGCA GCGGGCCACCGAGGG TTACGCCACCGAGCA TCGGGCCACCGATGG TCACCCCACCGAGCA"
   ]
  },
  {
   "cell_type": "markdown",
   "metadata": {},
   "source": [
    "## 2.8 How Can a Randomized Algorithm Perform So Well?"
   ]
  },
  {
   "cell_type": "code",
   "execution_count": 139,
   "metadata": {
    "scrolled": true
   },
   "outputs": [
    {
     "data": {
      "text/plain": [
       "0.01693439692911025"
      ]
     },
     "execution_count": 139,
     "metadata": {},
     "output_type": "execute_result"
    }
   ],
   "source": [
    "import math\n",
    "1-math.pow(((600-15)/(600-14)),10)"
   ]
  },
  {
   "cell_type": "code",
   "execution_count": 140,
   "metadata": {},
   "outputs": [
    {
     "data": {
      "text/plain": [
       "0.0001298567056762373"
      ]
     },
     "execution_count": 140,
     "metadata": {},
     "output_type": "execute_result"
    }
   ],
   "source": [
    "import math\n",
    "1-math.pow(((600-15)/(600-14)),10)-10*(1/(600-14))*math.pow(((600-15)/(600-14)),9)"
   ]
  },
  {
   "cell_type": "markdown",
   "metadata": {},
   "source": [
    "## 2.9 Gibbs Sampling"
   ]
  },
  {
   "cell_type": "code",
   "execution_count": 36,
   "metadata": {},
   "outputs": [
    {
     "data": {
      "text/plain": [
       "2"
      ]
     },
     "execution_count": 36,
     "metadata": {},
     "output_type": "execute_result"
    }
   ],
   "source": [
    "import random\n",
    "\n",
    "def Gibbs_random(probability):\n",
    "    ran=random.uniform(0,1)\n",
    "    cur_ran=0\n",
    "    for i in range(len(probability)):\n",
    "        cur_ran+=probability[i]/sum(probability)\n",
    "        if ran<cur_ran:\n",
    "            return i\n",
    "\n",
    "Gibbs_random([0.1,0.5,0.2])"
   ]
  },
  {
   "cell_type": "code",
   "execution_count": 131,
   "metadata": {
    "scrolled": true
   },
   "outputs": [
    {
     "name": "stdout",
     "output_type": "stream",
     "text": [
      "1 1000\n",
      "TGTTCAGT\n",
      "AGTGCCAA\n",
      "AGTATACA\n",
      "AGTTTCAG\n",
      "TCCACCAG\n",
      "*******************\n",
      "2 1000\n",
      "TCGGGGGT\n",
      "GGCGAGGT\n",
      "ACCGAGAC\n",
      "ATCAAGTT\n",
      "CACCAGCT\n",
      "*******************\n",
      "7 1000\n",
      "TCAGTAAC\n",
      "TAAGTGCC\n",
      "TACAGGCG\n",
      "CAAGTTTC\n",
      "CACGTGCA\n",
      "*******************\n",
      "10 1000\n",
      "CTCGGGGG\n",
      "CCAAGGTG\n",
      "TACAGGCG\n",
      "TTCAGGTG\n",
      "TCCACGTG\n",
      "*******************\n",
      "404 1000\n",
      "TCTCGGGG\n",
      "CCAAGGTG\n",
      "TACAGGCG\n",
      "TTCAGGTG\n",
      "TCCACGTG\n",
      "*******************\n"
     ]
    },
    {
     "data": {
      "text/plain": [
       "['TCTCGGGG', 'CCAAGGTG', 'TACAGGCG', 'TTCAGGTG', 'TCCACGTG']"
      ]
     },
     "execution_count": 131,
     "metadata": {},
     "output_type": "execute_result"
    }
   ],
   "source": [
    "import random\n",
    "import numpy as np\n",
    "\n",
    "def one_hot(seq):\n",
    "    code={'A':[1,0,0,0],\n",
    "         'C':[0,1,0,0],\n",
    "         'G':[0,0,1,0],\n",
    "         'T':[0,0,0,1]}\n",
    "    encode=[]\n",
    "    for x in seq:\n",
    "        encode.append(code[x])\n",
    "    return np.array(encode)\n",
    "\n",
    "def motif_matrix(Dna):\n",
    "    tmp=one_hot(Dna[0])\n",
    "    for dna in Dna[1::]:\n",
    "        tt=one_hot(dna)\n",
    "        tmp=np.add(tmp,tt)\n",
    "    tmp+=1 # pseudocounts\n",
    "    new_tmp=np.array([x/sum(x) for x in tmp])\n",
    "    return tmp,new_tmp\n",
    "\n",
    "def Score(Motifs):\n",
    "    matrix,_=motif_matrix(Motifs)\n",
    "    score=0\n",
    "    for x in matrix:\n",
    "        score+=(sum(x)-max(x))\n",
    "    return score\n",
    "\n",
    "def multiplyList(List) : \n",
    "    result = 1\n",
    "    for x in List: \n",
    "         result = result * x  \n",
    "    return result \n",
    "\n",
    "def Profile_most_Probable_kmer(Text,k,profile):\n",
    "    best_pos=0\n",
    "    best_value=0\n",
    "    for i in range(len(Text)-k+1):\n",
    "        encode=one_hot(Text[i:i+k])\n",
    "        cur_matrix=np.multiply(encode,profile)\n",
    "        cur_value=multiplyList([max(x) for x in cur_matrix])\n",
    "        if cur_value>best_value:\n",
    "            best_value=cur_value\n",
    "            best_pos=i\n",
    "    return Text[best_pos:best_pos+k]\n",
    "\n",
    "def Pr(kmers,Profile):\n",
    "    out=[]\n",
    "    for kmer in kmers:\n",
    "        encode=one_hot(kmer)\n",
    "        #print(encode,Profile)\n",
    "        out.append(multiplyList([max(x) for x in np.multiply(encode,Profile)]))\n",
    "        #print(encode,Profile,multiplyList([max(x) for x in np.multiply(encode,Profile)]))\n",
    "    return out        \n",
    "\n",
    "def Gibbs_random(probability):\n",
    "    ran=random.uniform(0,1)\n",
    "    cur_ran=0\n",
    "    for i in range(len(probability)):\n",
    "        cur_ran+=probability[i]/sum(probability)\n",
    "        if ran<cur_ran:\n",
    "            return i\n",
    "        \n",
    "def GibbsSampler(Dna, k, t, N):\n",
    "    Motifs=[]\n",
    "    for dna in Dna:\n",
    "        ran=random.randint(0,len(dna)-k) # include the second value\n",
    "        #ran=random.randint(0,t) # include the second value\n",
    "        Motifs.append(dna[ran:ran+k])\n",
    "    BestMotifs=Motifs\n",
    "    #print(Motifs)\n",
    "    for j in range(N):\n",
    "        i=random.randint(0,len(Dna)-1)\n",
    "        #print(len(Motifs[0:i-1]+Motifs[i:len(Motifs)]))\n",
    "        tmp=Motifs.pop(i)\n",
    "        _,Profile=motif_matrix(Motifs)\n",
    "        kmers=[Dna[i][n:n+k] for n in range(len(Dna[i])-k+1)]\n",
    "        #print(kmers,Dna[i-1])\n",
    "        #print(Pr(kmers,Profile))\n",
    "        ii=Gibbs_random(Pr(kmers,Profile))\n",
    "        Motifs.insert(i,Dna[i][ii:ii+k])\n",
    "        if Score(Motifs)<Score(BestMotifs):\n",
    "            BestMotifs=Motifs\n",
    "    return BestMotifs\n",
    "    \n",
    "def run(Dna,k,t,N,n=1000):\n",
    "    BestMotifs=GibbsSampler(Dna, k, t,N)\n",
    "    for i in range(1,n):\n",
    "        #print(i,n)\n",
    "        New_BestMotifs=GibbsSampler(Dna, k, t,N)\n",
    "        if Score(New_BestMotifs)<Score(BestMotifs):\n",
    "            BestMotifs=New_BestMotifs\n",
    "            print(i,n)\n",
    "            print('\\n'.join(BestMotifs))\n",
    "            print('*******************')\n",
    "        else:\n",
    "            pass\n",
    "    return BestMotifs\n",
    "        \n",
    "Dna='CGCCCCTCTCGGGGGTGTTCAGTAACCGGCCA \\\n",
    "GGGCGAGGTATGTGTAAGTGCCAAGGTGCCAG \\\n",
    "TAGTACCGAGACCGAAAGAAGTATACAGGCGT \\\n",
    "TAGATCAAGTTTCAGGTGCACGTCGGTGAACC \\\n",
    "AATCCACCAGCTCCACGTGCAATGTTGGCCTA'.split(' ')\n",
    "k=8\n",
    "t=5\n",
    "N=20\n",
    "run(Dna,k,t,N,n=1000)\n",
    "#' '.join(GreedyMotifSearch(Dna, k, t))"
   ]
  }
 ],
 "metadata": {
  "kernelspec": {
   "display_name": "p36",
   "language": "python",
   "name": "python3"
  },
  "language_info": {
   "codemirror_mode": {
    "name": "ipython",
    "version": 3
   },
   "file_extension": ".py",
   "mimetype": "text/x-python",
   "name": "python",
   "nbconvert_exporter": "python",
   "pygments_lexer": "ipython3",
   "version": "3.6.7"
  },
  "toc": {
   "base_numbering": 1,
   "nav_menu": {},
   "number_sections": true,
   "sideBar": true,
   "skip_h1_title": false,
   "title_cell": "Table of Contents",
   "title_sidebar": "Contents",
   "toc_cell": false,
   "toc_position": {
    "height": "calc(100% - 180px)",
    "left": "10px",
    "top": "150px",
    "width": "234.59375px"
   },
   "toc_section_display": true,
   "toc_window_display": true
  }
 },
 "nbformat": 4,
 "nbformat_minor": 2
}
